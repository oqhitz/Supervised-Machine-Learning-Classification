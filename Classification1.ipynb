{
 "cells": [
  {
   "cell_type": "markdown",
   "metadata": {
    "id": "N2W81uVMZyDV"
   },
   "source": [
    "Customer churn is the loss of clients or customers. In order to avoid losing customers, a company needs to examine why its customers have left in the past and which features are more important to determine who will churn in the future. Our task is therefore to predict whether customers are about to churn and which are the most important features to get that prediction right. As in most prediction problems, we will use machine learning."
   ]
  },
  {
   "cell_type": "markdown",
   "metadata": {
    "id": "pAvbuNHEuFQd"
   },
   "source": [
    "## Import Library"
   ]
  },
  {
   "cell_type": "code",
   "execution_count": 1,
   "metadata": {
    "id": "MLGG4J-RuFQh"
   },
   "outputs": [],
   "source": [
    "import numpy as np\n",
    "import pandas as pd\n",
    "import seaborn as sns\n",
    "import matplotlib.pyplot as plt"
   ]
  },
  {
   "cell_type": "markdown",
   "metadata": {
    "id": "rEeuVh8AuFQz"
   },
   "source": [
    "## Load Datasets"
   ]
  },
  {
   "cell_type": "code",
   "execution_count": 2,
   "metadata": {
    "id": "fORF7oPnZI6F"
   },
   "outputs": [],
   "source": [
    "#Load Data From Local File\n",
    "data=pd.read_csv(\"telco (1).csv\",sep=';')"
   ]
  },
  {
   "cell_type": "markdown",
   "metadata": {
    "id": "s0zKntabuFQ9"
   },
   "source": [
    "## Data Understanding"
   ]
  },
  {
   "cell_type": "code",
   "execution_count": 47,
   "metadata": {
    "colab": {
     "base_uri": "https://localhost:8080/",
     "height": 309
    },
    "id": "lOyXx49XuFQ-",
    "outputId": "1afd256f-bb13-4572-bb36-08fd29d6ce82"
   },
   "outputs": [
    {
     "data": {
      "text/html": [
       "<div>\n",
       "<style scoped>\n",
       "    .dataframe tbody tr th:only-of-type {\n",
       "        vertical-align: middle;\n",
       "    }\n",
       "\n",
       "    .dataframe tbody tr th {\n",
       "        vertical-align: top;\n",
       "    }\n",
       "\n",
       "    .dataframe thead th {\n",
       "        text-align: right;\n",
       "    }\n",
       "</style>\n",
       "<table border=\"1\" class=\"dataframe\">\n",
       "  <thead>\n",
       "    <tr style=\"text-align: right;\">\n",
       "      <th></th>\n",
       "      <th>gender</th>\n",
       "      <th>seniorcitizen</th>\n",
       "      <th>partner</th>\n",
       "      <th>dependents</th>\n",
       "      <th>tenure</th>\n",
       "      <th>phoneservice</th>\n",
       "      <th>multiplelines</th>\n",
       "      <th>onlinesecurity</th>\n",
       "      <th>onlinebackup</th>\n",
       "      <th>deviceprotection</th>\n",
       "      <th>...</th>\n",
       "      <th>monthlycharges</th>\n",
       "      <th>totalcharges</th>\n",
       "      <th>churn</th>\n",
       "      <th>region_France</th>\n",
       "      <th>region_Germany</th>\n",
       "      <th>internetservice_Fiber optic</th>\n",
       "      <th>internetservice_No</th>\n",
       "      <th>paymentmethod_Credit card (automatic)</th>\n",
       "      <th>paymentmethod_Electronic check</th>\n",
       "      <th>paymentmethod_Mailed check</th>\n",
       "    </tr>\n",
       "  </thead>\n",
       "  <tbody>\n",
       "    <tr>\n",
       "      <th>0</th>\n",
       "      <td>1</td>\n",
       "      <td>1</td>\n",
       "      <td>0</td>\n",
       "      <td>0</td>\n",
       "      <td>1</td>\n",
       "      <td>1</td>\n",
       "      <td>0</td>\n",
       "      <td>0</td>\n",
       "      <td>0</td>\n",
       "      <td>0</td>\n",
       "      <td>...</td>\n",
       "      <td>12.00</td>\n",
       "      <td>12.00</td>\n",
       "      <td>0</td>\n",
       "      <td>1</td>\n",
       "      <td>0</td>\n",
       "      <td>1</td>\n",
       "      <td>0</td>\n",
       "      <td>0</td>\n",
       "      <td>1</td>\n",
       "      <td>0</td>\n",
       "    </tr>\n",
       "    <tr>\n",
       "      <th>1</th>\n",
       "      <td>0</td>\n",
       "      <td>0</td>\n",
       "      <td>1</td>\n",
       "      <td>1</td>\n",
       "      <td>1</td>\n",
       "      <td>1</td>\n",
       "      <td>0</td>\n",
       "      <td>0</td>\n",
       "      <td>0</td>\n",
       "      <td>0</td>\n",
       "      <td>...</td>\n",
       "      <td>13.00</td>\n",
       "      <td>13.00</td>\n",
       "      <td>0</td>\n",
       "      <td>1</td>\n",
       "      <td>0</td>\n",
       "      <td>0</td>\n",
       "      <td>1</td>\n",
       "      <td>0</td>\n",
       "      <td>1</td>\n",
       "      <td>0</td>\n",
       "    </tr>\n",
       "    <tr>\n",
       "      <th>2</th>\n",
       "      <td>1</td>\n",
       "      <td>0</td>\n",
       "      <td>1</td>\n",
       "      <td>1</td>\n",
       "      <td>1</td>\n",
       "      <td>1</td>\n",
       "      <td>0</td>\n",
       "      <td>0</td>\n",
       "      <td>0</td>\n",
       "      <td>0</td>\n",
       "      <td>...</td>\n",
       "      <td>18.80</td>\n",
       "      <td>18.80</td>\n",
       "      <td>0</td>\n",
       "      <td>0</td>\n",
       "      <td>1</td>\n",
       "      <td>0</td>\n",
       "      <td>1</td>\n",
       "      <td>0</td>\n",
       "      <td>0</td>\n",
       "      <td>1</td>\n",
       "    </tr>\n",
       "    <tr>\n",
       "      <th>3</th>\n",
       "      <td>0</td>\n",
       "      <td>0</td>\n",
       "      <td>0</td>\n",
       "      <td>0</td>\n",
       "      <td>1</td>\n",
       "      <td>1</td>\n",
       "      <td>0</td>\n",
       "      <td>0</td>\n",
       "      <td>0</td>\n",
       "      <td>0</td>\n",
       "      <td>...</td>\n",
       "      <td>18.85</td>\n",
       "      <td>18.85</td>\n",
       "      <td>0</td>\n",
       "      <td>0</td>\n",
       "      <td>1</td>\n",
       "      <td>0</td>\n",
       "      <td>1</td>\n",
       "      <td>0</td>\n",
       "      <td>1</td>\n",
       "      <td>0</td>\n",
       "    </tr>\n",
       "    <tr>\n",
       "      <th>4</th>\n",
       "      <td>1</td>\n",
       "      <td>0</td>\n",
       "      <td>0</td>\n",
       "      <td>0</td>\n",
       "      <td>1</td>\n",
       "      <td>1</td>\n",
       "      <td>0</td>\n",
       "      <td>0</td>\n",
       "      <td>0</td>\n",
       "      <td>0</td>\n",
       "      <td>...</td>\n",
       "      <td>18.85</td>\n",
       "      <td>18.85</td>\n",
       "      <td>1</td>\n",
       "      <td>0</td>\n",
       "      <td>1</td>\n",
       "      <td>0</td>\n",
       "      <td>1</td>\n",
       "      <td>0</td>\n",
       "      <td>0</td>\n",
       "      <td>1</td>\n",
       "    </tr>\n",
       "  </tbody>\n",
       "</table>\n",
       "<p>5 rows × 24 columns</p>\n",
       "</div>"
      ],
      "text/plain": [
       "   gender  seniorcitizen  partner  dependents  tenure  phoneservice  \\\n",
       "0       1              1        0           0       1             1   \n",
       "1       0              0        1           1       1             1   \n",
       "2       1              0        1           1       1             1   \n",
       "3       0              0        0           0       1             1   \n",
       "4       1              0        0           0       1             1   \n",
       "\n",
       "   multiplelines  onlinesecurity  onlinebackup  deviceprotection  ...  \\\n",
       "0              0               0             0                 0  ...   \n",
       "1              0               0             0                 0  ...   \n",
       "2              0               0             0                 0  ...   \n",
       "3              0               0             0                 0  ...   \n",
       "4              0               0             0                 0  ...   \n",
       "\n",
       "   monthlycharges  totalcharges  churn  region_France  region_Germany  \\\n",
       "0           12.00         12.00      0              1               0   \n",
       "1           13.00         13.00      0              1               0   \n",
       "2           18.80         18.80      0              0               1   \n",
       "3           18.85         18.85      0              0               1   \n",
       "4           18.85         18.85      1              0               1   \n",
       "\n",
       "   internetservice_Fiber optic  internetservice_No  \\\n",
       "0                            1                   0   \n",
       "1                            0                   1   \n",
       "2                            0                   1   \n",
       "3                            0                   1   \n",
       "4                            0                   1   \n",
       "\n",
       "   paymentmethod_Credit card (automatic)  paymentmethod_Electronic check  \\\n",
       "0                                      0                               1   \n",
       "1                                      0                               1   \n",
       "2                                      0                               0   \n",
       "3                                      0                               1   \n",
       "4                                      0                               0   \n",
       "\n",
       "   paymentmethod_Mailed check  \n",
       "0                           0  \n",
       "1                           0  \n",
       "2                           1  \n",
       "3                           0  \n",
       "4                           1  \n",
       "\n",
       "[5 rows x 24 columns]"
      ]
     },
     "execution_count": 47,
     "metadata": {},
     "output_type": "execute_result"
    }
   ],
   "source": [
    "#See the first 5 data\n",
    "data.head()"
   ]
  },
  {
   "cell_type": "code",
   "execution_count": 4,
   "metadata": {
    "colab": {
     "base_uri": "https://localhost:8080/",
     "height": 34
    },
    "id": "vZhNjh1EuFT4",
    "outputId": "a43c43fb-cb2f-493e-8535-69871f088666"
   },
   "outputs": [
    {
     "data": {
      "text/plain": [
       "(7043, 21)"
      ]
     },
     "execution_count": 4,
     "metadata": {},
     "output_type": "execute_result"
    }
   ],
   "source": [
    "#See the number of rows and number of columns of data\n",
    "data.shape"
   ]
  },
  {
   "cell_type": "code",
   "execution_count": 5,
   "metadata": {
    "colab": {
     "base_uri": "https://localhost:8080/",
     "height": 493
    },
    "id": "JhnaNLgeuFUY",
    "outputId": "8ae1c959-d016-4c7a-fd07-9d1e9a3d3248"
   },
   "outputs": [
    {
     "name": "stdout",
     "output_type": "stream",
     "text": [
      "<class 'pandas.core.frame.DataFrame'>\n",
      "RangeIndex: 7043 entries, 0 to 7042\n",
      "Data columns (total 21 columns):\n",
      " #   Column            Non-Null Count  Dtype  \n",
      "---  ------            --------------  -----  \n",
      " 0   customerid        7043 non-null   object \n",
      " 1   region            7043 non-null   object \n",
      " 2   gender            7043 non-null   object \n",
      " 3   seniorcitizen     7043 non-null   int64  \n",
      " 4   partner           7043 non-null   object \n",
      " 5   dependents        7043 non-null   object \n",
      " 6   tenure            7043 non-null   int64  \n",
      " 7   phoneservice      7043 non-null   object \n",
      " 8   multiplelines     7043 non-null   object \n",
      " 9   internetservice   7043 non-null   object \n",
      " 10  onlinesecurity    7043 non-null   object \n",
      " 11  onlinebackup      7043 non-null   object \n",
      " 12  deviceprotection  7043 non-null   object \n",
      " 13  techsupport       7043 non-null   object \n",
      " 14  streamingtv       7043 non-null   object \n",
      " 15  streamingmovies   7043 non-null   object \n",
      " 16  paperlessbilling  7043 non-null   object \n",
      " 17  paymentmethod     7043 non-null   object \n",
      " 18  monthlycharges    7043 non-null   float64\n",
      " 19  totalcharges      7043 non-null   object \n",
      " 20  churn             7043 non-null   object \n",
      "dtypes: float64(1), int64(2), object(18)\n",
      "memory usage: 1.1+ MB\n"
     ]
    }
   ],
   "source": [
    "#Understanding each variable\n",
    "data.info()"
   ]
  },
  {
   "cell_type": "code",
   "execution_count": 6,
   "metadata": {
    "colab": {
     "base_uri": "https://localhost:8080/",
     "height": 297
    },
    "id": "-SBYR0iKuFUm",
    "outputId": "b5f1ed6a-9f5c-47bb-8a7b-d3d7dc499dc7"
   },
   "outputs": [
    {
     "data": {
      "text/html": [
       "<div>\n",
       "<style scoped>\n",
       "    .dataframe tbody tr th:only-of-type {\n",
       "        vertical-align: middle;\n",
       "    }\n",
       "\n",
       "    .dataframe tbody tr th {\n",
       "        vertical-align: top;\n",
       "    }\n",
       "\n",
       "    .dataframe thead th {\n",
       "        text-align: right;\n",
       "    }\n",
       "</style>\n",
       "<table border=\"1\" class=\"dataframe\">\n",
       "  <thead>\n",
       "    <tr style=\"text-align: right;\">\n",
       "      <th></th>\n",
       "      <th>seniorcitizen</th>\n",
       "      <th>tenure</th>\n",
       "      <th>monthlycharges</th>\n",
       "    </tr>\n",
       "  </thead>\n",
       "  <tbody>\n",
       "    <tr>\n",
       "      <th>count</th>\n",
       "      <td>7043.000000</td>\n",
       "      <td>7043.000000</td>\n",
       "      <td>7043.000000</td>\n",
       "    </tr>\n",
       "    <tr>\n",
       "      <th>mean</th>\n",
       "      <td>0.162147</td>\n",
       "      <td>32.401107</td>\n",
       "      <td>64.751874</td>\n",
       "    </tr>\n",
       "    <tr>\n",
       "      <th>std</th>\n",
       "      <td>0.368612</td>\n",
       "      <td>24.606849</td>\n",
       "      <td>30.097858</td>\n",
       "    </tr>\n",
       "    <tr>\n",
       "      <th>min</th>\n",
       "      <td>0.000000</td>\n",
       "      <td>1.000000</td>\n",
       "      <td>12.000000</td>\n",
       "    </tr>\n",
       "    <tr>\n",
       "      <th>25%</th>\n",
       "      <td>0.000000</td>\n",
       "      <td>9.000000</td>\n",
       "      <td>35.500000</td>\n",
       "    </tr>\n",
       "    <tr>\n",
       "      <th>50%</th>\n",
       "      <td>0.000000</td>\n",
       "      <td>29.000000</td>\n",
       "      <td>70.350000</td>\n",
       "    </tr>\n",
       "    <tr>\n",
       "      <th>75%</th>\n",
       "      <td>0.000000</td>\n",
       "      <td>55.000000</td>\n",
       "      <td>89.850000</td>\n",
       "    </tr>\n",
       "    <tr>\n",
       "      <th>max</th>\n",
       "      <td>1.000000</td>\n",
       "      <td>120.000000</td>\n",
       "      <td>118.750000</td>\n",
       "    </tr>\n",
       "  </tbody>\n",
       "</table>\n",
       "</div>"
      ],
      "text/plain": [
       "       seniorcitizen       tenure  monthlycharges\n",
       "count    7043.000000  7043.000000     7043.000000\n",
       "mean        0.162147    32.401107       64.751874\n",
       "std         0.368612    24.606849       30.097858\n",
       "min         0.000000     1.000000       12.000000\n",
       "25%         0.000000     9.000000       35.500000\n",
       "50%         0.000000    29.000000       70.350000\n",
       "75%         0.000000    55.000000       89.850000\n",
       "max         1.000000   120.000000      118.750000"
      ]
     },
     "execution_count": 6,
     "metadata": {},
     "output_type": "execute_result"
    }
   ],
   "source": [
    "#See a statistical summary of variables with numeric types\n",
    "data.describe()"
   ]
  },
  {
   "cell_type": "markdown",
   "metadata": {
    "id": "BcPIWDL_amhm"
   },
   "source": [
    "The dataset includes information about:\n",
    "+ Customers who churned — the column is called Churn\n",
    "+ Services that each customer has signed up for — phone, multiple lines, internet, online security, online backup, device protection, tech support, and streaming TV and movies\n",
    "+ Customer account information — how long they’ve been a customer, the type of contract (month-to-month, one-year, two-years), payment method, paperless billing, monthly charges, and total charges\n",
    "+ Demographic info about customers — gender, age, and if they have partners and dependents"
   ]
  },
  {
   "cell_type": "markdown",
   "metadata": {
    "id": "6J7QMUsCuFUt"
   },
   "source": [
    "## Data Cleaning and Preprocessing"
   ]
  },
  {
   "cell_type": "markdown",
   "metadata": {
    "id": "Q_I5vqQXuFU0"
   },
   "source": [
    "### Check Duplicate Data"
   ]
  },
  {
   "cell_type": "code",
   "execution_count": 7,
   "metadata": {
    "id": "FLBAkX2fuFU1"
   },
   "outputs": [],
   "source": [
    "#Drop duplicate value\n",
    "data=data.drop_duplicates()"
   ]
  },
  {
   "cell_type": "code",
   "execution_count": 8,
   "metadata": {
    "colab": {
     "base_uri": "https://localhost:8080/",
     "height": 34
    },
    "id": "ZXF8mNnUuFVM",
    "outputId": "8e0aa2c6-65f5-47ab-f393-598a4a99dee4"
   },
   "outputs": [
    {
     "data": {
      "text/plain": [
       "(7043, 21)"
      ]
     },
     "execution_count": 8,
     "metadata": {},
     "output_type": "execute_result"
    }
   ],
   "source": [
    "#See changes in the number of rows and columns after the duplicate value is deleted\n",
    "data.shape"
   ]
  },
  {
   "cell_type": "markdown",
   "metadata": {
    "id": "R8mx3BqkuFVW"
   },
   "source": [
    "### Check Data Types"
   ]
  },
  {
   "cell_type": "code",
   "execution_count": 9,
   "metadata": {
    "colab": {
     "base_uri": "https://localhost:8080/",
     "height": 391
    },
    "id": "dueNiZa1uFVZ",
    "outputId": "f2911289-fbd0-4bbc-d225-a2819635a774",
    "scrolled": true
   },
   "outputs": [
    {
     "data": {
      "text/plain": [
       "customerid           object\n",
       "region               object\n",
       "gender               object\n",
       "seniorcitizen         int64\n",
       "partner              object\n",
       "dependents           object\n",
       "tenure                int64\n",
       "phoneservice         object\n",
       "multiplelines        object\n",
       "internetservice      object\n",
       "onlinesecurity       object\n",
       "onlinebackup         object\n",
       "deviceprotection     object\n",
       "techsupport          object\n",
       "streamingtv          object\n",
       "streamingmovies      object\n",
       "paperlessbilling     object\n",
       "paymentmethod        object\n",
       "monthlycharges      float64\n",
       "totalcharges         object\n",
       "churn                object\n",
       "dtype: object"
      ]
     },
     "execution_count": 9,
     "metadata": {},
     "output_type": "execute_result"
    }
   ],
   "source": [
    "#Check Data Type\n",
    "data.dtypes"
   ]
  },
  {
   "cell_type": "code",
   "execution_count": 10,
   "metadata": {
    "id": "-8YL76LAuWca"
   },
   "outputs": [],
   "source": [
    "#merubah nilai kosong dengan isi spasi menjadi NA\n",
    "data[\"totalcharges\"]=data[\"totalcharges\"].replace(\" \",np.nan)"
   ]
  },
  {
   "cell_type": "code",
   "execution_count": 11,
   "metadata": {
    "id": "EfBMIgwWuXsa"
   },
   "outputs": [],
   "source": [
    "#merubah tipe data\n",
    "data[\"totalcharges\"]=data[\"totalcharges\"].astype(\"float64\")"
   ]
  },
  {
   "cell_type": "code",
   "execution_count": 12,
   "metadata": {
    "id": "RdzR1zjyuZx4",
    "outputId": "d04fabf6-1865-4416-ee26-228cd047a895"
   },
   "outputs": [
    {
     "data": {
      "text/plain": [
       "customerid           object\n",
       "region               object\n",
       "gender               object\n",
       "seniorcitizen         int64\n",
       "partner              object\n",
       "dependents           object\n",
       "tenure                int64\n",
       "phoneservice         object\n",
       "multiplelines        object\n",
       "internetservice      object\n",
       "onlinesecurity       object\n",
       "onlinebackup         object\n",
       "deviceprotection     object\n",
       "techsupport          object\n",
       "streamingtv          object\n",
       "streamingmovies      object\n",
       "paperlessbilling     object\n",
       "paymentmethod        object\n",
       "monthlycharges      float64\n",
       "totalcharges        float64\n",
       "churn                object\n",
       "dtype: object"
      ]
     },
     "execution_count": 12,
     "metadata": {},
     "output_type": "execute_result"
    }
   ],
   "source": [
    "data.dtypes"
   ]
  },
  {
   "cell_type": "markdown",
   "metadata": {
    "id": "T-83zvsZuFWN"
   },
   "source": [
    "### Check Missing Value"
   ]
  },
  {
   "cell_type": "code",
   "execution_count": 13,
   "metadata": {
    "colab": {
     "base_uri": "https://localhost:8080/",
     "height": 391
    },
    "id": "ATcLu2WwuFWP",
    "outputId": "bf318d66-2d69-46bc-ee36-d58842398f3f",
    "scrolled": true
   },
   "outputs": [
    {
     "data": {
      "text/plain": [
       "customerid           0\n",
       "region               0\n",
       "gender               0\n",
       "seniorcitizen        0\n",
       "partner              0\n",
       "dependents           0\n",
       "tenure               0\n",
       "phoneservice         0\n",
       "multiplelines        0\n",
       "internetservice      0\n",
       "onlinesecurity       0\n",
       "onlinebackup         0\n",
       "deviceprotection     0\n",
       "techsupport          0\n",
       "streamingtv          0\n",
       "streamingmovies      0\n",
       "paperlessbilling     0\n",
       "paymentmethod        0\n",
       "monthlycharges       0\n",
       "totalcharges        11\n",
       "churn                0\n",
       "dtype: int64"
      ]
     },
     "execution_count": 13,
     "metadata": {},
     "output_type": "execute_result"
    }
   ],
   "source": [
    "#Check the missing value\n",
    "data.isnull().sum()"
   ]
  },
  {
   "cell_type": "markdown",
   "metadata": {
    "id": "4DheYhbIuFWW"
   },
   "source": [
    "### Impute Missing value"
   ]
  },
  {
   "cell_type": "code",
   "execution_count": 14,
   "metadata": {
    "colab": {
     "base_uri": "https://localhost:8080/",
     "height": 296
    },
    "id": "qRkGeBe6uFWY",
    "outputId": "536e512b-98d1-46d0-e4df-b3a7baeb1386"
   },
   "outputs": [
    {
     "name": "stderr",
     "output_type": "stream",
     "text": [
      "C:\\Users\\LENOVO\\anaconda3\\lib\\site-packages\\seaborn\\distributions.py:2557: FutureWarning: `distplot` is a deprecated function and will be removed in a future version. Please adapt your code to use either `displot` (a figure-level function with similar flexibility) or `histplot` (an axes-level function for histograms).\n",
      "  warnings.warn(msg, FutureWarning)\n"
     ]
    },
    {
     "data": {
      "image/png": "[encoded data removed]",
      "text/plain": [
       "<Figure size 720x360 with 1 Axes>"
      ]
     },
     "metadata": {
      "needs_background": "light"
     },
     "output_type": "display_data"
    }
   ],
   "source": [
    "#Look at the distribution of the totalcharges variable with histogram and density plot\n",
    "plt.figure(figsize=(10,5))\n",
    "sns.distplot(data[\"totalcharges\"])\n",
    "plt.show()"
   ]
  },
  {
   "cell_type": "code",
   "execution_count": 15,
   "metadata": {
    "colab": {
     "base_uri": "https://localhost:8080/",
     "height": 296
    },
    "id": "9xCbuAwzuFWf",
    "outputId": "48fb6e8a-9e23-4aac-bfe8-ee65d8c5403b"
   },
   "outputs": [
    {
     "name": "stderr",
     "output_type": "stream",
     "text": [
      "C:\\Users\\LENOVO\\anaconda3\\lib\\site-packages\\seaborn\\_decorators.py:36: FutureWarning: Pass the following variable as a keyword arg: x. From version 0.12, the only valid positional argument will be `data`, and passing other arguments without an explicit keyword will result in an error or misinterpretation.\n",
      "  warnings.warn(\n"
     ]
    },
    {
     "data": {
      "image/png": "[encoded data removed]",
      "text/plain": [
       "<Figure size 720x360 with 1 Axes>"
      ]
     },
     "metadata": {
      "needs_background": "light"
     },
     "output_type": "display_data"
    }
   ],
   "source": [
    "#Look at the distribution of the totalcharges variable with boxplot\n",
    "plt.figure(figsize=(10,5))\n",
    "sns.boxplot(data[\"totalcharges\"])\n",
    "plt.show()"
   ]
  },
  {
   "cell_type": "code",
   "execution_count": 16,
   "metadata": {
    "id": "OambUgR5uFWs"
   },
   "outputs": [],
   "source": [
    "#Because the totalcharges variable has positive skewed, therefore the missing value is imputed with the median\n",
    "fill=data[\"totalcharges\"].median()\n",
    "data[\"totalcharges\"]=data[\"totalcharges\"].fillna(fill)"
   ]
  },
  {
   "cell_type": "code",
   "execution_count": 17,
   "metadata": {
    "colab": {
     "base_uri": "https://localhost:8080/",
     "height": 391
    },
    "id": "n4M5sZmZuFW0",
    "outputId": "1c36b0d1-9a6b-49ad-dd40-f79f6a49966a"
   },
   "outputs": [
    {
     "data": {
      "text/plain": [
       "customerid          0\n",
       "region              0\n",
       "gender              0\n",
       "seniorcitizen       0\n",
       "partner             0\n",
       "dependents          0\n",
       "tenure              0\n",
       "phoneservice        0\n",
       "multiplelines       0\n",
       "internetservice     0\n",
       "onlinesecurity      0\n",
       "onlinebackup        0\n",
       "deviceprotection    0\n",
       "techsupport         0\n",
       "streamingtv         0\n",
       "streamingmovies     0\n",
       "paperlessbilling    0\n",
       "paymentmethod       0\n",
       "monthlycharges      0\n",
       "totalcharges        0\n",
       "churn               0\n",
       "dtype: int64"
      ]
     },
     "execution_count": 17,
     "metadata": {},
     "output_type": "execute_result"
    }
   ],
   "source": [
    "#Check missing value after imputation\n",
    "data.isnull().sum()"
   ]
  },
  {
   "cell_type": "markdown",
   "metadata": {
    "id": "wb0OK2hHuFXT"
   },
   "source": [
    "### Outlier Detection"
   ]
  },
  {
   "cell_type": "code",
   "execution_count": 18,
   "metadata": {
    "colab": {
     "base_uri": "https://localhost:8080/",
     "height": 34
    },
    "id": "-mG8aYrcuFXi",
    "outputId": "c8be4c50-b1c7-4f2d-d030-121ed9367f43"
   },
   "outputs": [
    {
     "name": "stderr",
     "output_type": "stream",
     "text": [
      "C:\\Users\\LENOVO\\anaconda3\\lib\\site-packages\\seaborn\\_decorators.py:36: FutureWarning: Pass the following variable as a keyword arg: x. From version 0.12, the only valid positional argument will be `data`, and passing other arguments without an explicit keyword will result in an error or misinterpretation.\n",
      "  warnings.warn(\n"
     ]
    },
    {
     "data": {
      "image/png": "[encoded data removed]",
      "text/plain": [
       "<Figure size 720x360 with 1 Axes>"
      ]
     },
     "metadata": {
      "needs_background": "light"
     },
     "output_type": "display_data"
    }
   ],
   "source": [
    "#Check Outlier on the Tenure variable\n",
    "plt.figure(figsize=(10,5))\n",
    "sns.boxplot(data[\"tenure\"])\n",
    "plt.show()"
   ]
  },
  {
   "cell_type": "code",
   "execution_count": 19,
   "metadata": {
    "colab": {
     "base_uri": "https://localhost:8080/",
     "height": 34
    },
    "id": "ER6PNOqSuFXq",
    "outputId": "c7c0afea-a34b-488b-8b0b-484eed7605dc"
   },
   "outputs": [
    {
     "name": "stderr",
     "output_type": "stream",
     "text": [
      "C:\\Users\\LENOVO\\anaconda3\\lib\\site-packages\\seaborn\\_decorators.py:36: FutureWarning: Pass the following variable as a keyword arg: x. From version 0.12, the only valid positional argument will be `data`, and passing other arguments without an explicit keyword will result in an error or misinterpretation.\n",
      "  warnings.warn(\n"
     ]
    },
    {
     "data": {
      "image/png": "[encoded data removed]",
      "text/plain": [
       "<Figure size 720x360 with 1 Axes>"
      ]
     },
     "metadata": {
      "needs_background": "light"
     },
     "output_type": "display_data"
    }
   ],
   "source": [
    "#Check Outlier on the monthlycharges variable\n",
    "plt.figure(figsize=(10,5))\n",
    "sns.boxplot(data[\"monthlycharges\"])\n",
    "plt.show()"
   ]
  },
  {
   "cell_type": "code",
   "execution_count": 20,
   "metadata": {
    "colab": {
     "base_uri": "https://localhost:8080/",
     "height": 187
    },
    "id": "L2vJJzqXuFXz",
    "outputId": "88c60985-f88e-4743-e5c6-30f3be2b02e7"
   },
   "outputs": [
    {
     "name": "stderr",
     "output_type": "stream",
     "text": [
      "C:\\Users\\LENOVO\\anaconda3\\lib\\site-packages\\seaborn\\_decorators.py:36: FutureWarning: Pass the following variable as a keyword arg: x. From version 0.12, the only valid positional argument will be `data`, and passing other arguments without an explicit keyword will result in an error or misinterpretation.\n",
      "  warnings.warn(\n"
     ]
    },
    {
     "data": {
      "image/png": "[encoded data removed]",
      "text/plain": [
       "<Figure size 720x360 with 1 Axes>"
      ]
     },
     "metadata": {
      "needs_background": "light"
     },
     "output_type": "display_data"
    }
   ],
   "source": [
    "#Check Outlier on the totalcharges variable\n",
    "plt.figure(figsize=(10,5))\n",
    "sns.boxplot(data[\"totalcharges\"])\n",
    "plt.show()"
   ]
  },
  {
   "cell_type": "code",
   "execution_count": 21,
   "metadata": {
    "id": "jgDRJ2XXV9TG",
    "outputId": "8e7b3b17-c76f-42f5-831d-8ea9cfa00173"
   },
   "outputs": [
    {
     "data": {
      "text/html": [
       "<div>\n",
       "<style scoped>\n",
       "    .dataframe tbody tr th:only-of-type {\n",
       "        vertical-align: middle;\n",
       "    }\n",
       "\n",
       "    .dataframe tbody tr th {\n",
       "        vertical-align: top;\n",
       "    }\n",
       "\n",
       "    .dataframe thead th {\n",
       "        text-align: right;\n",
       "    }\n",
       "</style>\n",
       "<table border=\"1\" class=\"dataframe\">\n",
       "  <thead>\n",
       "    <tr style=\"text-align: right;\">\n",
       "      <th></th>\n",
       "      <th>customerid</th>\n",
       "      <th>region</th>\n",
       "      <th>gender</th>\n",
       "      <th>seniorcitizen</th>\n",
       "      <th>partner</th>\n",
       "      <th>dependents</th>\n",
       "      <th>tenure</th>\n",
       "      <th>phoneservice</th>\n",
       "      <th>multiplelines</th>\n",
       "      <th>internetservice</th>\n",
       "      <th>...</th>\n",
       "      <th>onlinebackup</th>\n",
       "      <th>deviceprotection</th>\n",
       "      <th>techsupport</th>\n",
       "      <th>streamingtv</th>\n",
       "      <th>streamingmovies</th>\n",
       "      <th>paperlessbilling</th>\n",
       "      <th>paymentmethod</th>\n",
       "      <th>monthlycharges</th>\n",
       "      <th>totalcharges</th>\n",
       "      <th>churn</th>\n",
       "    </tr>\n",
       "  </thead>\n",
       "  <tbody>\n",
       "    <tr>\n",
       "      <th>7024</th>\n",
       "      <td>2889-FPWRM</td>\n",
       "      <td>Germany</td>\n",
       "      <td>Male</td>\n",
       "      <td>0</td>\n",
       "      <td>Yes</td>\n",
       "      <td>No</td>\n",
       "      <td>96</td>\n",
       "      <td>Yes</td>\n",
       "      <td>Yes</td>\n",
       "      <td>Fiber optic</td>\n",
       "      <td>...</td>\n",
       "      <td>Yes</td>\n",
       "      <td>Yes</td>\n",
       "      <td>Yes</td>\n",
       "      <td>Yes</td>\n",
       "      <td>Yes</td>\n",
       "      <td>Yes</td>\n",
       "      <td>Bank transfer (automatic)</td>\n",
       "      <td>117.80</td>\n",
       "      <td>11308.8</td>\n",
       "      <td>Yes</td>\n",
       "    </tr>\n",
       "    <tr>\n",
       "      <th>7025</th>\n",
       "      <td>7892-POOKP</td>\n",
       "      <td>France</td>\n",
       "      <td>Female</td>\n",
       "      <td>0</td>\n",
       "      <td>Yes</td>\n",
       "      <td>No</td>\n",
       "      <td>120</td>\n",
       "      <td>Yes</td>\n",
       "      <td>Yes</td>\n",
       "      <td>Fiber optic</td>\n",
       "      <td>...</td>\n",
       "      <td>No</td>\n",
       "      <td>Yes</td>\n",
       "      <td>Yes</td>\n",
       "      <td>Yes</td>\n",
       "      <td>Yes</td>\n",
       "      <td>Yes</td>\n",
       "      <td>Electronic check</td>\n",
       "      <td>104.80</td>\n",
       "      <td>12576.0</td>\n",
       "      <td>Yes</td>\n",
       "    </tr>\n",
       "    <tr>\n",
       "      <th>7026</th>\n",
       "      <td>7569-NMZYQ</td>\n",
       "      <td>Germany</td>\n",
       "      <td>Female</td>\n",
       "      <td>0</td>\n",
       "      <td>Yes</td>\n",
       "      <td>Yes</td>\n",
       "      <td>72</td>\n",
       "      <td>Yes</td>\n",
       "      <td>Yes</td>\n",
       "      <td>Fiber optic</td>\n",
       "      <td>...</td>\n",
       "      <td>Yes</td>\n",
       "      <td>Yes</td>\n",
       "      <td>Yes</td>\n",
       "      <td>Yes</td>\n",
       "      <td>Yes</td>\n",
       "      <td>Yes</td>\n",
       "      <td>Bank transfer (automatic)</td>\n",
       "      <td>118.75</td>\n",
       "      <td>15087.9</td>\n",
       "      <td>No</td>\n",
       "    </tr>\n",
       "    <tr>\n",
       "      <th>7027</th>\n",
       "      <td>9739-JLPQJ</td>\n",
       "      <td>Germany</td>\n",
       "      <td>Female</td>\n",
       "      <td>0</td>\n",
       "      <td>Yes</td>\n",
       "      <td>Yes</td>\n",
       "      <td>72</td>\n",
       "      <td>Yes</td>\n",
       "      <td>Yes</td>\n",
       "      <td>Fiber optic</td>\n",
       "      <td>...</td>\n",
       "      <td>Yes</td>\n",
       "      <td>Yes</td>\n",
       "      <td>Yes</td>\n",
       "      <td>Yes</td>\n",
       "      <td>Yes</td>\n",
       "      <td>No</td>\n",
       "      <td>Credit card (automatic)</td>\n",
       "      <td>117.50</td>\n",
       "      <td>16987.9</td>\n",
       "      <td>No</td>\n",
       "    </tr>\n",
       "    <tr>\n",
       "      <th>7028</th>\n",
       "      <td>9924-JPRMC</td>\n",
       "      <td>Germany</td>\n",
       "      <td>Male</td>\n",
       "      <td>0</td>\n",
       "      <td>No</td>\n",
       "      <td>No</td>\n",
       "      <td>72</td>\n",
       "      <td>Yes</td>\n",
       "      <td>Yes</td>\n",
       "      <td>Fiber optic</td>\n",
       "      <td>...</td>\n",
       "      <td>Yes</td>\n",
       "      <td>Yes</td>\n",
       "      <td>Yes</td>\n",
       "      <td>Yes</td>\n",
       "      <td>Yes</td>\n",
       "      <td>Yes</td>\n",
       "      <td>Electronic check</td>\n",
       "      <td>118.20</td>\n",
       "      <td>17987.3</td>\n",
       "      <td>No</td>\n",
       "    </tr>\n",
       "    <tr>\n",
       "      <th>7029</th>\n",
       "      <td>8879-XUAHX</td>\n",
       "      <td>Germany</td>\n",
       "      <td>Male</td>\n",
       "      <td>0</td>\n",
       "      <td>Yes</td>\n",
       "      <td>No</td>\n",
       "      <td>71</td>\n",
       "      <td>Yes</td>\n",
       "      <td>Yes</td>\n",
       "      <td>Fiber optic</td>\n",
       "      <td>...</td>\n",
       "      <td>Yes</td>\n",
       "      <td>Yes</td>\n",
       "      <td>Yes</td>\n",
       "      <td>Yes</td>\n",
       "      <td>Yes</td>\n",
       "      <td>Yes</td>\n",
       "      <td>Electronic check</td>\n",
       "      <td>116.25</td>\n",
       "      <td>18987.9</td>\n",
       "      <td>No</td>\n",
       "    </tr>\n",
       "    <tr>\n",
       "      <th>7030</th>\n",
       "      <td>9788-HNGUT</td>\n",
       "      <td>Germany</td>\n",
       "      <td>Male</td>\n",
       "      <td>0</td>\n",
       "      <td>Yes</td>\n",
       "      <td>No</td>\n",
       "      <td>72</td>\n",
       "      <td>Yes</td>\n",
       "      <td>Yes</td>\n",
       "      <td>Fiber optic</td>\n",
       "      <td>...</td>\n",
       "      <td>Yes</td>\n",
       "      <td>Yes</td>\n",
       "      <td>Yes</td>\n",
       "      <td>Yes</td>\n",
       "      <td>Yes</td>\n",
       "      <td>Yes</td>\n",
       "      <td>Credit card (automatic)</td>\n",
       "      <td>116.95</td>\n",
       "      <td>21987.5</td>\n",
       "      <td>No</td>\n",
       "    </tr>\n",
       "    <tr>\n",
       "      <th>7031</th>\n",
       "      <td>6007-TCTST</td>\n",
       "      <td>Germany</td>\n",
       "      <td>Female</td>\n",
       "      <td>0</td>\n",
       "      <td>Yes</td>\n",
       "      <td>Yes</td>\n",
       "      <td>72</td>\n",
       "      <td>Yes</td>\n",
       "      <td>Yes</td>\n",
       "      <td>Fiber optic</td>\n",
       "      <td>...</td>\n",
       "      <td>Yes</td>\n",
       "      <td>Yes</td>\n",
       "      <td>Yes</td>\n",
       "      <td>Yes</td>\n",
       "      <td>Yes</td>\n",
       "      <td>Yes</td>\n",
       "      <td>Bank transfer (automatic)</td>\n",
       "      <td>115.80</td>\n",
       "      <td>22345.6</td>\n",
       "      <td>No</td>\n",
       "    </tr>\n",
       "  </tbody>\n",
       "</table>\n",
       "<p>8 rows × 21 columns</p>\n",
       "</div>"
      ],
      "text/plain": [
       "      customerid   region  gender  seniorcitizen partner dependents  tenure  \\\n",
       "7024  2889-FPWRM  Germany    Male              0     Yes         No      96   \n",
       "7025  7892-POOKP   France  Female              0     Yes         No     120   \n",
       "7026  7569-NMZYQ  Germany  Female              0     Yes        Yes      72   \n",
       "7027  9739-JLPQJ  Germany  Female              0     Yes        Yes      72   \n",
       "7028  9924-JPRMC  Germany    Male              0      No         No      72   \n",
       "7029  8879-XUAHX  Germany    Male              0     Yes         No      71   \n",
       "7030  9788-HNGUT  Germany    Male              0     Yes         No      72   \n",
       "7031  6007-TCTST  Germany  Female              0     Yes        Yes      72   \n",
       "\n",
       "     phoneservice multiplelines internetservice  ... onlinebackup  \\\n",
       "7024          Yes           Yes     Fiber optic  ...          Yes   \n",
       "7025          Yes           Yes     Fiber optic  ...           No   \n",
       "7026          Yes           Yes     Fiber optic  ...          Yes   \n",
       "7027          Yes           Yes     Fiber optic  ...          Yes   \n",
       "7028          Yes           Yes     Fiber optic  ...          Yes   \n",
       "7029          Yes           Yes     Fiber optic  ...          Yes   \n",
       "7030          Yes           Yes     Fiber optic  ...          Yes   \n",
       "7031          Yes           Yes     Fiber optic  ...          Yes   \n",
       "\n",
       "     deviceprotection techsupport streamingtv streamingmovies  \\\n",
       "7024              Yes         Yes         Yes             Yes   \n",
       "7025              Yes         Yes         Yes             Yes   \n",
       "7026              Yes         Yes         Yes             Yes   \n",
       "7027              Yes         Yes         Yes             Yes   \n",
       "7028              Yes         Yes         Yes             Yes   \n",
       "7029              Yes         Yes         Yes             Yes   \n",
       "7030              Yes         Yes         Yes             Yes   \n",
       "7031              Yes         Yes         Yes             Yes   \n",
       "\n",
       "     paperlessbilling              paymentmethod monthlycharges  totalcharges  \\\n",
       "7024              Yes  Bank transfer (automatic)         117.80       11308.8   \n",
       "7025              Yes           Electronic check         104.80       12576.0   \n",
       "7026              Yes  Bank transfer (automatic)         118.75       15087.9   \n",
       "7027               No    Credit card (automatic)         117.50       16987.9   \n",
       "7028              Yes           Electronic check         118.20       17987.3   \n",
       "7029              Yes           Electronic check         116.25       18987.9   \n",
       "7030              Yes    Credit card (automatic)         116.95       21987.5   \n",
       "7031              Yes  Bank transfer (automatic)         115.80       22345.6   \n",
       "\n",
       "      churn  \n",
       "7024    Yes  \n",
       "7025    Yes  \n",
       "7026     No  \n",
       "7027     No  \n",
       "7028     No  \n",
       "7029     No  \n",
       "7030     No  \n",
       "7031     No  \n",
       "\n",
       "[8 rows x 21 columns]"
      ]
     },
     "execution_count": 21,
     "metadata": {},
     "output_type": "execute_result"
    }
   ],
   "source": [
    "#See observation outliers on the totalcharges variable\n",
    "Q1=data[\"totalcharges\"].quantile(0.25)\n",
    "Q3=data[\"totalcharges\"].quantile(0.75)\n",
    "IQR=Q3-Q1\n",
    "lower_range = Q1 -(1.5 * IQR)\n",
    "upper_range = Q3 +(1.5 * IQR)\n",
    "data.loc[(data[\"totalcharges\"]>upper_range),:]"
   ]
  },
  {
   "cell_type": "code",
   "execution_count": 22,
   "metadata": {
    "id": "RMgsRAaguFYR"
   },
   "outputs": [],
   "source": [
    "#Replace outlier observations with upper bound and lower bound\n",
    "data.loc[(data[\"totalcharges\"]>upper_range),\"totalcharges\"]=upper_range"
   ]
  },
  {
   "cell_type": "code",
   "execution_count": 23,
   "metadata": {
    "colab": {
     "base_uri": "https://localhost:8080/",
     "height": 34
    },
    "id": "08R5JJyeuFYk",
    "outputId": "f390f945-c7af-4fc4-b252-67b7032ae1e6"
   },
   "outputs": [
    {
     "name": "stderr",
     "output_type": "stream",
     "text": [
      "C:\\Users\\LENOVO\\anaconda3\\lib\\site-packages\\seaborn\\_decorators.py:36: FutureWarning: Pass the following variable as a keyword arg: x. From version 0.12, the only valid positional argument will be `data`, and passing other arguments without an explicit keyword will result in an error or misinterpretation.\n",
      "  warnings.warn(\n"
     ]
    },
    {
     "data": {
      "image/png": "[encoded data removed]",
      "text/plain": [
       "<Figure size 720x360 with 1 Axes>"
      ]
     },
     "metadata": {
      "needs_background": "light"
     },
     "output_type": "display_data"
    }
   ],
   "source": [
    "#Check Outlier on the totalcharges variable\n",
    "plt.figure(figsize=(10,5))\n",
    "sns.boxplot(data[\"totalcharges\"])\n",
    "plt.show()"
   ]
  },
  {
   "cell_type": "markdown",
   "metadata": {
    "id": "c1fZiNNEuFY2"
   },
   "source": [
    "### Handle Inconsistent Data"
   ]
  },
  {
   "cell_type": "code",
   "execution_count": 24,
   "metadata": {
    "id": "-CEkZgfkuFY5"
   },
   "outputs": [],
   "source": [
    "#Replace \"No Internet Service\" with \"No\"\n",
    "replace_cols1 = ['onlinesecurity', 'onlinebackup', 'deviceprotection',\n",
    "                'techsupport','streamingtv', 'streamingmovies']\n",
    "for i in replace_cols1 :\n",
    "    data[i]  = data[i].replace({'No internet service' : 'No'})\n",
    "\n",
    "#Replace \"No Phone Service\" with \"No\"\n",
    "data['multiplelines']  = data['multiplelines'].replace({'No phone service' : 'No'})"
   ]
  },
  {
   "cell_type": "markdown",
   "metadata": {
    "id": "1V90BuecuFZR"
   },
   "source": [
    "### Encoding Variables"
   ]
  },
  {
   "cell_type": "code",
   "execution_count": 25,
   "metadata": {
    "id": "p9bjhivTuFZS"
   },
   "outputs": [],
   "source": [
    "from sklearn.preprocessing import LabelEncoder\n",
    "\n",
    "#Separating categorical and numerical columns\n",
    "Id_col     = ['customerid']\n",
    "num_cols   = ['tenure', 'monthlycharges', 'totalcharges']\n",
    "\n",
    "#Biner category columns\n",
    "bin_cols   = ['gender','seniorcitizen','partner','dependents','phoneservice','multiplelines','onlinesecurity','churn',\n",
    "              'onlinebackup','deviceprotection','techsupport','streamingtv','streamingmovies','paperlessbilling']\n",
    "\n",
    "#multi category columns\n",
    "multi_cols = ['region', 'internetservice', 'paymentmethod']\n",
    "\n",
    "#Label encoding Biner category columns\n",
    "le = LabelEncoder()\n",
    "for i in bin_cols :\n",
    "    data[i] = le.fit_transform(data[i])\n",
    "    \n",
    "#Label encoding for nominal multi category columns\n",
    "data=pd.get_dummies(data = data,columns = multi_cols,drop_first=True)"
   ]
  },
  {
   "cell_type": "code",
   "execution_count": 26,
   "metadata": {
    "colab": {
     "base_uri": "https://localhost:8080/",
     "height": 609
    },
    "id": "CCBHYnybjkDy",
    "outputId": "c3583ee8-ef63-42c5-a147-d19f22347e08"
   },
   "outputs": [
    {
     "data": {
      "text/html": [
       "<div>\n",
       "<style scoped>\n",
       "    .dataframe tbody tr th:only-of-type {\n",
       "        vertical-align: middle;\n",
       "    }\n",
       "\n",
       "    .dataframe tbody tr th {\n",
       "        vertical-align: top;\n",
       "    }\n",
       "\n",
       "    .dataframe thead th {\n",
       "        text-align: right;\n",
       "    }\n",
       "</style>\n",
       "<table border=\"1\" class=\"dataframe\">\n",
       "  <thead>\n",
       "    <tr style=\"text-align: right;\">\n",
       "      <th></th>\n",
       "      <th>customerid</th>\n",
       "      <th>gender</th>\n",
       "      <th>seniorcitizen</th>\n",
       "      <th>partner</th>\n",
       "      <th>dependents</th>\n",
       "      <th>tenure</th>\n",
       "      <th>phoneservice</th>\n",
       "      <th>multiplelines</th>\n",
       "      <th>onlinesecurity</th>\n",
       "      <th>onlinebackup</th>\n",
       "      <th>...</th>\n",
       "      <th>monthlycharges</th>\n",
       "      <th>totalcharges</th>\n",
       "      <th>churn</th>\n",
       "      <th>region_France</th>\n",
       "      <th>region_Germany</th>\n",
       "      <th>internetservice_Fiber optic</th>\n",
       "      <th>internetservice_No</th>\n",
       "      <th>paymentmethod_Credit card (automatic)</th>\n",
       "      <th>paymentmethod_Electronic check</th>\n",
       "      <th>paymentmethod_Mailed check</th>\n",
       "    </tr>\n",
       "  </thead>\n",
       "  <tbody>\n",
       "    <tr>\n",
       "      <th>0</th>\n",
       "      <td>2424-WVHPL</td>\n",
       "      <td>1</td>\n",
       "      <td>1</td>\n",
       "      <td>0</td>\n",
       "      <td>0</td>\n",
       "      <td>1</td>\n",
       "      <td>1</td>\n",
       "      <td>0</td>\n",
       "      <td>0</td>\n",
       "      <td>0</td>\n",
       "      <td>...</td>\n",
       "      <td>12.00</td>\n",
       "      <td>12.000</td>\n",
       "      <td>0</td>\n",
       "      <td>1</td>\n",
       "      <td>0</td>\n",
       "      <td>1</td>\n",
       "      <td>0</td>\n",
       "      <td>0</td>\n",
       "      <td>1</td>\n",
       "      <td>0</td>\n",
       "    </tr>\n",
       "    <tr>\n",
       "      <th>1</th>\n",
       "      <td>3679-XASPY</td>\n",
       "      <td>0</td>\n",
       "      <td>0</td>\n",
       "      <td>1</td>\n",
       "      <td>1</td>\n",
       "      <td>1</td>\n",
       "      <td>1</td>\n",
       "      <td>0</td>\n",
       "      <td>0</td>\n",
       "      <td>0</td>\n",
       "      <td>...</td>\n",
       "      <td>13.00</td>\n",
       "      <td>13.000</td>\n",
       "      <td>0</td>\n",
       "      <td>1</td>\n",
       "      <td>0</td>\n",
       "      <td>0</td>\n",
       "      <td>1</td>\n",
       "      <td>0</td>\n",
       "      <td>1</td>\n",
       "      <td>0</td>\n",
       "    </tr>\n",
       "    <tr>\n",
       "      <th>2</th>\n",
       "      <td>2967-MXRAV</td>\n",
       "      <td>1</td>\n",
       "      <td>0</td>\n",
       "      <td>1</td>\n",
       "      <td>1</td>\n",
       "      <td>1</td>\n",
       "      <td>1</td>\n",
       "      <td>0</td>\n",
       "      <td>0</td>\n",
       "      <td>0</td>\n",
       "      <td>...</td>\n",
       "      <td>18.80</td>\n",
       "      <td>18.800</td>\n",
       "      <td>0</td>\n",
       "      <td>0</td>\n",
       "      <td>1</td>\n",
       "      <td>0</td>\n",
       "      <td>1</td>\n",
       "      <td>0</td>\n",
       "      <td>0</td>\n",
       "      <td>1</td>\n",
       "    </tr>\n",
       "    <tr>\n",
       "      <th>3</th>\n",
       "      <td>8992-CEUEN</td>\n",
       "      <td>0</td>\n",
       "      <td>0</td>\n",
       "      <td>0</td>\n",
       "      <td>0</td>\n",
       "      <td>1</td>\n",
       "      <td>1</td>\n",
       "      <td>0</td>\n",
       "      <td>0</td>\n",
       "      <td>0</td>\n",
       "      <td>...</td>\n",
       "      <td>18.85</td>\n",
       "      <td>18.850</td>\n",
       "      <td>0</td>\n",
       "      <td>0</td>\n",
       "      <td>1</td>\n",
       "      <td>0</td>\n",
       "      <td>1</td>\n",
       "      <td>0</td>\n",
       "      <td>1</td>\n",
       "      <td>0</td>\n",
       "    </tr>\n",
       "    <tr>\n",
       "      <th>4</th>\n",
       "      <td>9318-NKNFC</td>\n",
       "      <td>1</td>\n",
       "      <td>0</td>\n",
       "      <td>0</td>\n",
       "      <td>0</td>\n",
       "      <td>1</td>\n",
       "      <td>1</td>\n",
       "      <td>0</td>\n",
       "      <td>0</td>\n",
       "      <td>0</td>\n",
       "      <td>...</td>\n",
       "      <td>18.85</td>\n",
       "      <td>18.850</td>\n",
       "      <td>1</td>\n",
       "      <td>0</td>\n",
       "      <td>1</td>\n",
       "      <td>0</td>\n",
       "      <td>1</td>\n",
       "      <td>0</td>\n",
       "      <td>0</td>\n",
       "      <td>1</td>\n",
       "    </tr>\n",
       "    <tr>\n",
       "      <th>...</th>\n",
       "      <td>...</td>\n",
       "      <td>...</td>\n",
       "      <td>...</td>\n",
       "      <td>...</td>\n",
       "      <td>...</td>\n",
       "      <td>...</td>\n",
       "      <td>...</td>\n",
       "      <td>...</td>\n",
       "      <td>...</td>\n",
       "      <td>...</td>\n",
       "      <td>...</td>\n",
       "      <td>...</td>\n",
       "      <td>...</td>\n",
       "      <td>...</td>\n",
       "      <td>...</td>\n",
       "      <td>...</td>\n",
       "      <td>...</td>\n",
       "      <td>...</td>\n",
       "      <td>...</td>\n",
       "      <td>...</td>\n",
       "      <td>...</td>\n",
       "    </tr>\n",
       "    <tr>\n",
       "      <th>7038</th>\n",
       "      <td>4472-LVYGI</td>\n",
       "      <td>0</td>\n",
       "      <td>0</td>\n",
       "      <td>1</td>\n",
       "      <td>1</td>\n",
       "      <td>2</td>\n",
       "      <td>0</td>\n",
       "      <td>0</td>\n",
       "      <td>1</td>\n",
       "      <td>0</td>\n",
       "      <td>...</td>\n",
       "      <td>52.55</td>\n",
       "      <td>1397.475</td>\n",
       "      <td>0</td>\n",
       "      <td>0</td>\n",
       "      <td>1</td>\n",
       "      <td>0</td>\n",
       "      <td>0</td>\n",
       "      <td>0</td>\n",
       "      <td>0</td>\n",
       "      <td>0</td>\n",
       "    </tr>\n",
       "    <tr>\n",
       "      <th>7039</th>\n",
       "      <td>1371-DWPAZ</td>\n",
       "      <td>0</td>\n",
       "      <td>0</td>\n",
       "      <td>1</td>\n",
       "      <td>1</td>\n",
       "      <td>2</td>\n",
       "      <td>0</td>\n",
       "      <td>0</td>\n",
       "      <td>1</td>\n",
       "      <td>1</td>\n",
       "      <td>...</td>\n",
       "      <td>56.05</td>\n",
       "      <td>1397.475</td>\n",
       "      <td>0</td>\n",
       "      <td>0</td>\n",
       "      <td>1</td>\n",
       "      <td>0</td>\n",
       "      <td>0</td>\n",
       "      <td>1</td>\n",
       "      <td>0</td>\n",
       "      <td>0</td>\n",
       "    </tr>\n",
       "    <tr>\n",
       "      <th>7040</th>\n",
       "      <td>2775-SEFEE</td>\n",
       "      <td>1</td>\n",
       "      <td>0</td>\n",
       "      <td>0</td>\n",
       "      <td>1</td>\n",
       "      <td>3</td>\n",
       "      <td>1</td>\n",
       "      <td>1</td>\n",
       "      <td>1</td>\n",
       "      <td>1</td>\n",
       "      <td>...</td>\n",
       "      <td>61.90</td>\n",
       "      <td>1397.475</td>\n",
       "      <td>0</td>\n",
       "      <td>0</td>\n",
       "      <td>1</td>\n",
       "      <td>0</td>\n",
       "      <td>0</td>\n",
       "      <td>0</td>\n",
       "      <td>0</td>\n",
       "      <td>0</td>\n",
       "    </tr>\n",
       "    <tr>\n",
       "      <th>7041</th>\n",
       "      <td>4075-WKNIU</td>\n",
       "      <td>0</td>\n",
       "      <td>0</td>\n",
       "      <td>1</td>\n",
       "      <td>1</td>\n",
       "      <td>3</td>\n",
       "      <td>1</td>\n",
       "      <td>1</td>\n",
       "      <td>0</td>\n",
       "      <td>1</td>\n",
       "      <td>...</td>\n",
       "      <td>73.35</td>\n",
       "      <td>1397.475</td>\n",
       "      <td>0</td>\n",
       "      <td>0</td>\n",
       "      <td>1</td>\n",
       "      <td>0</td>\n",
       "      <td>0</td>\n",
       "      <td>0</td>\n",
       "      <td>0</td>\n",
       "      <td>1</td>\n",
       "    </tr>\n",
       "    <tr>\n",
       "      <th>7042</th>\n",
       "      <td>5709-LVOEQ</td>\n",
       "      <td>0</td>\n",
       "      <td>0</td>\n",
       "      <td>1</td>\n",
       "      <td>1</td>\n",
       "      <td>3</td>\n",
       "      <td>1</td>\n",
       "      <td>0</td>\n",
       "      <td>1</td>\n",
       "      <td>1</td>\n",
       "      <td>...</td>\n",
       "      <td>80.85</td>\n",
       "      <td>1397.475</td>\n",
       "      <td>0</td>\n",
       "      <td>0</td>\n",
       "      <td>1</td>\n",
       "      <td>0</td>\n",
       "      <td>0</td>\n",
       "      <td>0</td>\n",
       "      <td>0</td>\n",
       "      <td>1</td>\n",
       "    </tr>\n",
       "  </tbody>\n",
       "</table>\n",
       "<p>7043 rows × 25 columns</p>\n",
       "</div>"
      ],
      "text/plain": [
       "      customerid  gender  seniorcitizen  partner  dependents  tenure  \\\n",
       "0     2424-WVHPL       1              1        0           0       1   \n",
       "1     3679-XASPY       0              0        1           1       1   \n",
       "2     2967-MXRAV       1              0        1           1       1   \n",
       "3     8992-CEUEN       0              0        0           0       1   \n",
       "4     9318-NKNFC       1              0        0           0       1   \n",
       "...          ...     ...            ...      ...         ...     ...   \n",
       "7038  4472-LVYGI       0              0        1           1       2   \n",
       "7039  1371-DWPAZ       0              0        1           1       2   \n",
       "7040  2775-SEFEE       1              0        0           1       3   \n",
       "7041  4075-WKNIU       0              0        1           1       3   \n",
       "7042  5709-LVOEQ       0              0        1           1       3   \n",
       "\n",
       "      phoneservice  multiplelines  onlinesecurity  onlinebackup  ...  \\\n",
       "0                1              0               0             0  ...   \n",
       "1                1              0               0             0  ...   \n",
       "2                1              0               0             0  ...   \n",
       "3                1              0               0             0  ...   \n",
       "4                1              0               0             0  ...   \n",
       "...            ...            ...             ...           ...  ...   \n",
       "7038             0              0               1             0  ...   \n",
       "7039             0              0               1             1  ...   \n",
       "7040             1              1               1             1  ...   \n",
       "7041             1              1               0             1  ...   \n",
       "7042             1              0               1             1  ...   \n",
       "\n",
       "      monthlycharges  totalcharges  churn  region_France  region_Germany  \\\n",
       "0              12.00        12.000      0              1               0   \n",
       "1              13.00        13.000      0              1               0   \n",
       "2              18.80        18.800      0              0               1   \n",
       "3              18.85        18.850      0              0               1   \n",
       "4              18.85        18.850      1              0               1   \n",
       "...              ...           ...    ...            ...             ...   \n",
       "7038           52.55      1397.475      0              0               1   \n",
       "7039           56.05      1397.475      0              0               1   \n",
       "7040           61.90      1397.475      0              0               1   \n",
       "7041           73.35      1397.475      0              0               1   \n",
       "7042           80.85      1397.475      0              0               1   \n",
       "\n",
       "      internetservice_Fiber optic  internetservice_No  \\\n",
       "0                               1                   0   \n",
       "1                               0                   1   \n",
       "2                               0                   1   \n",
       "3                               0                   1   \n",
       "4                               0                   1   \n",
       "...                           ...                 ...   \n",
       "7038                            0                   0   \n",
       "7039                            0                   0   \n",
       "7040                            0                   0   \n",
       "7041                            0                   0   \n",
       "7042                            0                   0   \n",
       "\n",
       "      paymentmethod_Credit card (automatic)  paymentmethod_Electronic check  \\\n",
       "0                                         0                               1   \n",
       "1                                         0                               1   \n",
       "2                                         0                               0   \n",
       "3                                         0                               1   \n",
       "4                                         0                               0   \n",
       "...                                     ...                             ...   \n",
       "7038                                      0                               0   \n",
       "7039                                      1                               0   \n",
       "7040                                      0                               0   \n",
       "7041                                      0                               0   \n",
       "7042                                      0                               0   \n",
       "\n",
       "      paymentmethod_Mailed check  \n",
       "0                              0  \n",
       "1                              0  \n",
       "2                              1  \n",
       "3                              0  \n",
       "4                              1  \n",
       "...                          ...  \n",
       "7038                           0  \n",
       "7039                           0  \n",
       "7040                           0  \n",
       "7041                           1  \n",
       "7042                           1  \n",
       "\n",
       "[7043 rows x 25 columns]"
      ]
     },
     "execution_count": 26,
     "metadata": {},
     "output_type": "execute_result"
    }
   ],
   "source": [
    "data"
   ]
  },
  {
   "cell_type": "markdown",
   "metadata": {
    "id": "jR952cm1uFaL"
   },
   "source": [
    "## Data Partition"
   ]
  },
  {
   "cell_type": "code",
   "execution_count": 27,
   "metadata": {
    "id": "2tffqDi5V9TQ"
   },
   "outputs": [],
   "source": [
    "data=data.drop(labels=\"customerid\",axis=1)"
   ]
  },
  {
   "cell_type": "code",
   "execution_count": 28,
   "metadata": {
    "id": "4liI6drRuFaL"
   },
   "outputs": [],
   "source": [
    "from sklearn.model_selection import train_test_split\n",
    "\n",
    "##partition data into data training and data testing\n",
    "train,test = train_test_split(data,test_size = 0.20 ,random_state = 111)\n",
    "    \n",
    "##seperating dependent and independent variables on training and testing data\n",
    "train_X = train.drop(labels='churn',axis=1)\n",
    "train_Y = train['churn']\n",
    "test_X  = test.drop(labels='churn',axis=1)\n",
    "test_Y  = test['churn']"
   ]
  },
  {
   "cell_type": "markdown",
   "metadata": {
    "id": "jYgD0t5wV9TS"
   },
   "source": [
    "## SMOTE (Synthetic Minority Oversampling Technique)"
   ]
  },
  {
   "cell_type": "code",
   "execution_count": 29,
   "metadata": {
    "id": "1k1Kofo1V9TT"
   },
   "outputs": [],
   "source": [
    "from imblearn.over_sampling import SMOTE\n",
    "\n",
    "#handle imbalance class using oversampling minority class with smote method\n",
    "os = SMOTE(sampling_strategy='minority',random_state = 123,k_neighbors=5)\n",
    "train_smote_X,train_smote_Y = os.fit_resample(train_X,train_Y)\n",
    "train_smote_X = pd.DataFrame(data = train_smote_X,columns=train_X.columns)\n",
    "train_smote_Y = pd.DataFrame(data = train_smote_Y)"
   ]
  },
  {
   "cell_type": "code",
   "execution_count": 30,
   "metadata": {
    "id": "M3jyvM3hV9TU",
    "outputId": "cebe087d-f5f3-4603-d7f6-f76bb256c66b"
   },
   "outputs": [
    {
     "data": {
      "text/plain": [
       "0    4136\n",
       "1    1498\n",
       "Name: churn, dtype: int64"
      ]
     },
     "execution_count": 30,
     "metadata": {},
     "output_type": "execute_result"
    }
   ],
   "source": [
    "#Proportion before smote\n",
    "train_Y.value_counts()"
   ]
  },
  {
   "cell_type": "code",
   "execution_count": 31,
   "metadata": {
    "id": "dFp5WAy3V9TW",
    "outputId": "39c30649-a073-490c-8c0a-9fbd9f05d3c5"
   },
   "outputs": [
    {
     "data": {
      "text/plain": [
       "churn\n",
       "0        4136\n",
       "1        4136\n",
       "dtype: int64"
      ]
     },
     "execution_count": 31,
     "metadata": {},
     "output_type": "execute_result"
    }
   ],
   "source": [
    "#Proportion after smote\n",
    "train_smote_Y.value_counts()"
   ]
  },
  {
   "cell_type": "code",
   "execution_count": 32,
   "metadata": {
    "id": "68_OItOulhRO"
   },
   "outputs": [],
   "source": [
    "## Modeling"
   ]
  },
  {
   "cell_type": "markdown",
   "metadata": {
    "id": "N7_6pBU5V9TY"
   },
   "source": [
    "## Regresi Logistik"
   ]
  },
  {
   "cell_type": "code",
   "execution_count": 33,
   "metadata": {
    "id": "pm54OKtSV9TZ",
    "outputId": "197afb9b-4689-45a8-9461-489be3fc12e8"
   },
   "outputs": [
    {
     "name": "stdout",
     "output_type": "stream",
     "text": [
      "Optimization terminated successfully.\n",
      "         Current function value: 0.359594\n",
      "         Iterations 8\n",
      "                           Logit Regression Results                           \n",
      "==============================================================================\n",
      "Dep. Variable:                  churn   No. Observations:                 8272\n",
      "Model:                          Logit   Df Residuals:                     8248\n",
      "Method:                           MLE   Df Model:                           23\n",
      "Date:                Sat, 10 Apr 2021   Pseudo R-squ.:                  0.4812\n",
      "Time:                        16:07:14   Log-Likelihood:                -2974.6\n",
      "converged:                       True   LL-Null:                       -5733.7\n",
      "Covariance Type:            nonrobust   LLR p-value:                     0.000\n",
      "=========================================================================================================\n",
      "                                            coef    std err          z      P>|z|      [0.025      0.975]\n",
      "---------------------------------------------------------------------------------------------------------\n",
      "const                                    -6.1302      0.588    -10.424      0.000      -7.283      -4.978\n",
      "gender                                   -0.2353      0.065     -3.607      0.000      -0.363      -0.107\n",
      "seniorcitizen                            -0.0347      0.092     -0.376      0.707      -0.215       0.146\n",
      "partner                                  -0.2804      0.081     -3.478      0.001      -0.438      -0.122\n",
      "dependents                               -0.4139      0.094     -4.407      0.000      -0.598      -0.230\n",
      "tenure                                   -0.0852      0.006    -15.268      0.000      -0.096      -0.074\n",
      "phoneservice                             -7.9611      0.420    -18.974      0.000      -8.783      -7.139\n",
      "multiplelines                            -1.5813      0.125    -12.677      0.000      -1.826      -1.337\n",
      "onlinesecurity                           -2.7360      0.130    -21.077      0.000      -2.990      -2.482\n",
      "onlinebackup                             -2.2071      0.123    -17.913      0.000      -2.449      -1.966\n",
      "deviceprotection                         -2.0631      0.125    -16.443      0.000      -2.309      -1.817\n",
      "techsupport                              -2.7430      0.130    -21.099      0.000      -2.998      -2.488\n",
      "streamingtv                              -3.5984      0.212    -16.985      0.000      -4.014      -3.183\n",
      "streamingmovies                          -3.4645      0.212    -16.328      0.000      -3.880      -3.049\n",
      "paperlessbilling                          0.2221      0.072      3.063      0.002       0.080       0.364\n",
      "monthlycharges                            0.3568      0.020     18.178      0.000       0.318       0.395\n",
      "totalcharges                              0.0006   6.41e-05      9.166      0.000       0.000       0.001\n",
      "region_France                            -0.8014      0.330     -2.431      0.015      -1.447      -0.155\n",
      "region_Germany                           -0.6689      0.243     -2.756      0.006      -1.145      -0.193\n",
      "internetservice_Fiber optic              -8.2858      0.497    -16.657      0.000      -9.261      -7.311\n",
      "internetservice_No                        7.8776      0.516     15.268      0.000       6.866       8.889\n",
      "paymentmethod_Credit card (automatic)    -0.9306      0.113     -8.228      0.000      -1.152      -0.709\n",
      "paymentmethod_Electronic check           -0.2108      0.087     -2.433      0.015      -0.381      -0.041\n",
      "paymentmethod_Mailed check               -0.7225      0.106     -6.821      0.000      -0.930      -0.515\n",
      "=========================================================================================================\n"
     ]
    }
   ],
   "source": [
    "import statsmodels.api as sm \n",
    "exog = sm.add_constant(train_smote_X)\n",
    "log_reg = sm.Logit(train_smote_Y, exog).fit() \n",
    "print(log_reg.summary())"
   ]
  },
  {
   "cell_type": "code",
   "execution_count": 34,
   "metadata": {
    "id": "0uuTKju2V9Tb",
    "outputId": "8a5b847a-df48-4b59-88df-e0e445644b75"
   },
   "outputs": [
    {
     "name": "stdout",
     "output_type": "stream",
     "text": [
      "Optimization terminated successfully.\n",
      "         Current function value: 0.359602\n",
      "         Iterations 8\n",
      "                           Logit Regression Results                           \n",
      "==============================================================================\n",
      "Dep. Variable:                  churn   No. Observations:                 8272\n",
      "Model:                          Logit   Df Residuals:                     8249\n",
      "Method:                           MLE   Df Model:                           22\n",
      "Date:                Sat, 10 Apr 2021   Pseudo R-squ.:                  0.4812\n",
      "Time:                        16:07:14   Log-Likelihood:                -2974.6\n",
      "converged:                       True   LL-Null:                       -5733.7\n",
      "Covariance Type:            nonrobust   LLR p-value:                     0.000\n",
      "=========================================================================================================\n",
      "                                            coef    std err          z      P>|z|      [0.025      0.975]\n",
      "---------------------------------------------------------------------------------------------------------\n",
      "const                                    -6.1471      0.586    -10.483      0.000      -7.296      -4.998\n",
      "gender                                   -0.2358      0.065     -3.615      0.000      -0.364      -0.108\n",
      "partner                                  -0.2837      0.080     -3.539      0.000      -0.441      -0.127\n",
      "dependents                               -0.4076      0.092     -4.410      0.000      -0.589      -0.226\n",
      "tenure                                   -0.0853      0.006    -15.283      0.000      -0.096      -0.074\n",
      "phoneservice                             -7.9707      0.419    -19.029      0.000      -8.792      -7.150\n",
      "multiplelines                            -1.5862      0.124    -12.783      0.000      -1.829      -1.343\n",
      "onlinesecurity                           -2.7381      0.130    -21.112      0.000      -2.992      -2.484\n",
      "onlinebackup                             -2.2101      0.123    -17.977      0.000      -2.451      -1.969\n",
      "deviceprotection                         -2.0663      0.125    -16.504      0.000      -2.312      -1.821\n",
      "techsupport                              -2.7444      0.130    -21.118      0.000      -2.999      -2.490\n",
      "streamingtv                              -3.6033      0.211    -17.040      0.000      -4.018      -3.189\n",
      "streamingmovies                          -3.4705      0.212    -16.402      0.000      -3.885      -3.056\n",
      "paperlessbilling                          0.2210      0.072      3.051      0.002       0.079       0.363\n",
      "monthlycharges                            0.3574      0.020     18.259      0.000       0.319       0.396\n",
      "totalcharges                              0.0006   6.41e-05      9.174      0.000       0.000       0.001\n",
      "region_France                            -0.8002      0.330     -2.427      0.015      -1.446      -0.154\n",
      "region_Germany                           -0.6693      0.243     -2.758      0.006      -1.145      -0.194\n",
      "internetservice_Fiber optic              -8.3036      0.495    -16.766      0.000      -9.274      -7.333\n",
      "internetservice_No                        7.8930      0.514     15.345      0.000       6.885       8.901\n",
      "paymentmethod_Credit card (automatic)    -0.9317      0.113     -8.241      0.000      -1.153      -0.710\n",
      "paymentmethod_Electronic check           -0.2132      0.086     -2.467      0.014      -0.383      -0.044\n",
      "paymentmethod_Mailed check               -0.7225      0.106     -6.822      0.000      -0.930      -0.515\n",
      "=========================================================================================================\n"
     ]
    }
   ],
   "source": [
    "exog = sm.add_constant(train_smote_X.drop(labels=\"seniorcitizen\",axis=1))\n",
    "log_reg = sm.Logit(train_smote_Y, exog).fit() \n",
    "print(log_reg.summary())"
   ]
  },
  {
   "cell_type": "markdown",
   "metadata": {
    "id": "uvAfCNABV9Tc"
   },
   "source": [
    "#### Evaluation"
   ]
  },
  {
   "cell_type": "code",
   "execution_count": 35,
   "metadata": {
    "id": "vzq4p_LRV9Td"
   },
   "outputs": [],
   "source": [
    "pred=log_reg.predict(sm.add_constant(test_X.drop(labels=\"seniorcitizen\",axis=1)))"
   ]
  },
  {
   "cell_type": "code",
   "execution_count": 36,
   "metadata": {
    "id": "XoJYtQEoV9Te",
    "outputId": "bf034b85-8853-425e-e4f8-316b0b55f05a"
   },
   "outputs": [
    {
     "data": {
      "text/plain": [
       "6842    0.549316\n",
       "3576    0.283510\n",
       "1206    0.432652\n",
       "5037    0.327221\n",
       "5131    0.075715\n",
       "          ...   \n",
       "6009    0.139677\n",
       "1168    0.900953\n",
       "619     0.848209\n",
       "2001    0.148178\n",
       "4104    0.133575\n",
       "Length: 1409, dtype: float64"
      ]
     },
     "execution_count": 36,
     "metadata": {},
     "output_type": "execute_result"
    }
   ],
   "source": [
    "pred"
   ]
  },
  {
   "cell_type": "code",
   "execution_count": 37,
   "metadata": {
    "id": "ODbxGoKNV9Tf",
    "outputId": "9ddd7249-c030-47da-e8d1-1eb216e0092d"
   },
   "outputs": [
    {
     "name": "stdout",
     "output_type": "stream",
     "text": [
      "Accuracy for Logreg on test data:  0.7714691270404542\n"
     ]
    }
   ],
   "source": [
    "from sklearn.metrics import accuracy_score\n",
    "print(\"Accuracy for Logreg on test data: \",accuracy_score(test_Y,np.round(pred)))"
   ]
  },
  {
   "cell_type": "code",
   "execution_count": 38,
   "metadata": {
    "id": "E_XeMaM6V9Tg",
    "outputId": "bd9dbf37-0fef-49e0-b2ae-dca384b3ec19"
   },
   "outputs": [
    {
     "data": {
      "text/plain": [
       "array([[857, 181],\n",
       "       [141, 230]], dtype=int64)"
      ]
     },
     "execution_count": 38,
     "metadata": {},
     "output_type": "execute_result"
    }
   ],
   "source": [
    "from sklearn.metrics import confusion_matrix\n",
    "CF=confusion_matrix(test_Y, np.round(pred))\n",
    "CF"
   ]
  },
  {
   "cell_type": "code",
   "execution_count": 39,
   "metadata": {
    "id": "gezJBhMmV9Th",
    "outputId": "883da2f5-b1e6-429a-c009-173269026363"
   },
   "outputs": [
    {
     "name": "stdout",
     "output_type": "stream",
     "text": [
      "              precision    recall  f1-score   support\n",
      "\n",
      "          No       0.86      0.83      0.84      1038\n",
      "         Yes       0.56      0.62      0.59       371\n",
      "\n",
      "    accuracy                           0.77      1409\n",
      "   macro avg       0.71      0.72      0.72      1409\n",
      "weighted avg       0.78      0.77      0.78      1409\n",
      "\n"
     ]
    }
   ],
   "source": [
    "from sklearn.metrics import classification_report\n",
    "target_names = ['No','Yes']\n",
    "print(classification_report(test_Y, np.round(pred), target_names=target_names))"
   ]
  },
  {
   "cell_type": "markdown",
   "metadata": {
    "id": "olZGk573V9Tj"
   },
   "source": [
    "## KNN"
   ]
  },
  {
   "cell_type": "code",
   "execution_count": 40,
   "metadata": {
    "id": "-1YNJSFoV9Tj"
   },
   "outputs": [],
   "source": [
    "from sklearn.preprocessing import StandardScaler\n",
    "ss=StandardScaler()\n",
    "train_smote_X[num_cols]=ss.fit_transform(train_smote_X[num_cols])\n",
    "test_X[num_cols]=ss.transform(test_X[num_cols])"
   ]
  },
  {
   "cell_type": "code",
   "execution_count": 41,
   "metadata": {
    "id": "JlHmUBDoV9Tk"
   },
   "outputs": [],
   "source": [
    "from sklearn.neighbors import KNeighborsClassifier\n",
    "from sklearn.metrics import accuracy_score\n",
    "knnc=KNeighborsClassifier()\n",
    "param_grid = { \n",
    "    'n_neighbors': [2,3,4,5,6],\n",
    "    'metric': ['euclidean','manhatan']\n",
    "}"
   ]
  },
  {
   "cell_type": "code",
   "execution_count": 42,
   "metadata": {
    "id": "BHIKty5hV9Tl",
    "outputId": "74a08f84-fc17-4653-9a7c-965dbca807c3"
   },
   "outputs": [
    {
     "name": "stderr",
     "output_type": "stream",
     "text": [
      "C:\\Users\\LENOVO\\anaconda3\\lib\\site-packages\\sklearn\\neighbors\\_classification.py:179: DataConversionWarning: A column-vector y was passed when a 1d array was expected. Please change the shape of y to (n_samples,), for example using ravel().\n",
      "  return self._fit(X, y)\n",
      "C:\\Users\\LENOVO\\anaconda3\\lib\\site-packages\\sklearn\\neighbors\\_classification.py:179: DataConversionWarning: A column-vector y was passed when a 1d array was expected. Please change the shape of y to (n_samples,), for example using ravel().\n",
      "  return self._fit(X, y)\n",
      "C:\\Users\\LENOVO\\anaconda3\\lib\\site-packages\\sklearn\\neighbors\\_classification.py:179: DataConversionWarning: A column-vector y was passed when a 1d array was expected. Please change the shape of y to (n_samples,), for example using ravel().\n",
      "  return self._fit(X, y)\n",
      "C:\\Users\\LENOVO\\anaconda3\\lib\\site-packages\\sklearn\\neighbors\\_classification.py:179: DataConversionWarning: A column-vector y was passed when a 1d array was expected. Please change the shape of y to (n_samples,), for example using ravel().\n",
      "  return self._fit(X, y)\n",
      "C:\\Users\\LENOVO\\anaconda3\\lib\\site-packages\\sklearn\\neighbors\\_classification.py:179: DataConversionWarning: A column-vector y was passed when a 1d array was expected. Please change the shape of y to (n_samples,), for example using ravel().\n",
      "  return self._fit(X, y)\n",
      "C:\\Users\\LENOVO\\anaconda3\\lib\\site-packages\\sklearn\\neighbors\\_classification.py:179: DataConversionWarning: A column-vector y was passed when a 1d array was expected. Please change the shape of y to (n_samples,), for example using ravel().\n",
      "  return self._fit(X, y)\n",
      "C:\\Users\\LENOVO\\anaconda3\\lib\\site-packages\\sklearn\\neighbors\\_classification.py:179: DataConversionWarning: A column-vector y was passed when a 1d array was expected. Please change the shape of y to (n_samples,), for example using ravel().\n",
      "  return self._fit(X, y)\n",
      "C:\\Users\\LENOVO\\anaconda3\\lib\\site-packages\\sklearn\\neighbors\\_classification.py:179: DataConversionWarning: A column-vector y was passed when a 1d array was expected. Please change the shape of y to (n_samples,), for example using ravel().\n",
      "  return self._fit(X, y)\n",
      "C:\\Users\\LENOVO\\anaconda3\\lib\\site-packages\\sklearn\\neighbors\\_classification.py:179: DataConversionWarning: A column-vector y was passed when a 1d array was expected. Please change the shape of y to (n_samples,), for example using ravel().\n",
      "  return self._fit(X, y)\n",
      "C:\\Users\\LENOVO\\anaconda3\\lib\\site-packages\\sklearn\\neighbors\\_classification.py:179: DataConversionWarning: A column-vector y was passed when a 1d array was expected. Please change the shape of y to (n_samples,), for example using ravel().\n",
      "  return self._fit(X, y)\n",
      "C:\\Users\\LENOVO\\anaconda3\\lib\\site-packages\\sklearn\\neighbors\\_classification.py:179: DataConversionWarning: A column-vector y was passed when a 1d array was expected. Please change the shape of y to (n_samples,), for example using ravel().\n",
      "  return self._fit(X, y)\n",
      "C:\\Users\\LENOVO\\anaconda3\\lib\\site-packages\\sklearn\\model_selection\\_validation.py:610: FitFailedWarning: Estimator fit failed. The score on this train-test partition for these parameters will be set to nan. Details: \n",
      "Traceback (most recent call last):\n",
      "  File \"C:\\Users\\LENOVO\\anaconda3\\lib\\site-packages\\sklearn\\model_selection\\_validation.py\", line 593, in _fit_and_score\n",
      "    estimator.fit(X_train, y_train, **fit_params)\n",
      "  File \"C:\\Users\\LENOVO\\anaconda3\\lib\\site-packages\\sklearn\\neighbors\\_classification.py\", line 179, in fit\n",
      "    return self._fit(X, y)\n",
      "  File \"C:\\Users\\LENOVO\\anaconda3\\lib\\site-packages\\sklearn\\neighbors\\_base.py\", line 399, in _fit\n",
      "    self._check_algorithm_metric()\n",
      "  File \"C:\\Users\\LENOVO\\anaconda3\\lib\\site-packages\\sklearn\\neighbors\\_base.py\", line 342, in _check_algorithm_metric\n",
      "    raise ValueError(\"Metric '%s' not valid. Use \"\n",
      "ValueError: Metric 'manhatan' not valid. Use sorted(sklearn.neighbors.VALID_METRICS['brute']) to get valid options. Metric can also be a callable function.\n",
      "\n",
      "  warnings.warn(\"Estimator fit failed. The score on this train-test\"\n",
      "C:\\Users\\LENOVO\\anaconda3\\lib\\site-packages\\sklearn\\neighbors\\_classification.py:179: DataConversionWarning: A column-vector y was passed when a 1d array was expected. Please change the shape of y to (n_samples,), for example using ravel().\n",
      "  return self._fit(X, y)\n",
      "C:\\Users\\LENOVO\\anaconda3\\lib\\site-packages\\sklearn\\model_selection\\_validation.py:610: FitFailedWarning: Estimator fit failed. The score on this train-test partition for these parameters will be set to nan. Details: \n",
      "Traceback (most recent call last):\n",
      "  File \"C:\\Users\\LENOVO\\anaconda3\\lib\\site-packages\\sklearn\\model_selection\\_validation.py\", line 593, in _fit_and_score\n",
      "    estimator.fit(X_train, y_train, **fit_params)\n",
      "  File \"C:\\Users\\LENOVO\\anaconda3\\lib\\site-packages\\sklearn\\neighbors\\_classification.py\", line 179, in fit\n",
      "    return self._fit(X, y)\n",
      "  File \"C:\\Users\\LENOVO\\anaconda3\\lib\\site-packages\\sklearn\\neighbors\\_base.py\", line 399, in _fit\n",
      "    self._check_algorithm_metric()\n",
      "  File \"C:\\Users\\LENOVO\\anaconda3\\lib\\site-packages\\sklearn\\neighbors\\_base.py\", line 342, in _check_algorithm_metric\n",
      "    raise ValueError(\"Metric '%s' not valid. Use \"\n",
      "ValueError: Metric 'manhatan' not valid. Use sorted(sklearn.neighbors.VALID_METRICS['brute']) to get valid options. Metric can also be a callable function.\n",
      "\n",
      "  warnings.warn(\"Estimator fit failed. The score on this train-test\"\n",
      "C:\\Users\\LENOVO\\anaconda3\\lib\\site-packages\\sklearn\\neighbors\\_classification.py:179: DataConversionWarning: A column-vector y was passed when a 1d array was expected. Please change the shape of y to (n_samples,), for example using ravel().\n",
      "  return self._fit(X, y)\n",
      "C:\\Users\\LENOVO\\anaconda3\\lib\\site-packages\\sklearn\\model_selection\\_validation.py:610: FitFailedWarning: Estimator fit failed. The score on this train-test partition for these parameters will be set to nan. Details: \n",
      "Traceback (most recent call last):\n",
      "  File \"C:\\Users\\LENOVO\\anaconda3\\lib\\site-packages\\sklearn\\model_selection\\_validation.py\", line 593, in _fit_and_score\n",
      "    estimator.fit(X_train, y_train, **fit_params)\n",
      "  File \"C:\\Users\\LENOVO\\anaconda3\\lib\\site-packages\\sklearn\\neighbors\\_classification.py\", line 179, in fit\n",
      "    return self._fit(X, y)\n",
      "  File \"C:\\Users\\LENOVO\\anaconda3\\lib\\site-packages\\sklearn\\neighbors\\_base.py\", line 399, in _fit\n",
      "    self._check_algorithm_metric()\n",
      "  File \"C:\\Users\\LENOVO\\anaconda3\\lib\\site-packages\\sklearn\\neighbors\\_base.py\", line 342, in _check_algorithm_metric\n",
      "    raise ValueError(\"Metric '%s' not valid. Use \"\n",
      "ValueError: Metric 'manhatan' not valid. Use sorted(sklearn.neighbors.VALID_METRICS['brute']) to get valid options. Metric can also be a callable function.\n",
      "\n",
      "  warnings.warn(\"Estimator fit failed. The score on this train-test\"\n",
      "C:\\Users\\LENOVO\\anaconda3\\lib\\site-packages\\sklearn\\neighbors\\_classification.py:179: DataConversionWarning: A column-vector y was passed when a 1d array was expected. Please change the shape of y to (n_samples,), for example using ravel().\n",
      "  return self._fit(X, y)\n",
      "C:\\Users\\LENOVO\\anaconda3\\lib\\site-packages\\sklearn\\model_selection\\_validation.py:610: FitFailedWarning: Estimator fit failed. The score on this train-test partition for these parameters will be set to nan. Details: \n",
      "Traceback (most recent call last):\n",
      "  File \"C:\\Users\\LENOVO\\anaconda3\\lib\\site-packages\\sklearn\\model_selection\\_validation.py\", line 593, in _fit_and_score\n",
      "    estimator.fit(X_train, y_train, **fit_params)\n",
      "  File \"C:\\Users\\LENOVO\\anaconda3\\lib\\site-packages\\sklearn\\neighbors\\_classification.py\", line 179, in fit\n",
      "    return self._fit(X, y)\n",
      "  File \"C:\\Users\\LENOVO\\anaconda3\\lib\\site-packages\\sklearn\\neighbors\\_base.py\", line 399, in _fit\n",
      "    self._check_algorithm_metric()\n",
      "  File \"C:\\Users\\LENOVO\\anaconda3\\lib\\site-packages\\sklearn\\neighbors\\_base.py\", line 342, in _check_algorithm_metric\n",
      "    raise ValueError(\"Metric '%s' not valid. Use \"\n",
      "ValueError: Metric 'manhatan' not valid. Use sorted(sklearn.neighbors.VALID_METRICS['brute']) to get valid options. Metric can also be a callable function.\n",
      "\n",
      "  warnings.warn(\"Estimator fit failed. The score on this train-test\"\n",
      "C:\\Users\\LENOVO\\anaconda3\\lib\\site-packages\\sklearn\\neighbors\\_classification.py:179: DataConversionWarning: A column-vector y was passed when a 1d array was expected. Please change the shape of y to (n_samples,), for example using ravel().\n",
      "  return self._fit(X, y)\n",
      "C:\\Users\\LENOVO\\anaconda3\\lib\\site-packages\\sklearn\\model_selection\\_validation.py:610: FitFailedWarning: Estimator fit failed. The score on this train-test partition for these parameters will be set to nan. Details: \n",
      "Traceback (most recent call last):\n",
      "  File \"C:\\Users\\LENOVO\\anaconda3\\lib\\site-packages\\sklearn\\model_selection\\_validation.py\", line 593, in _fit_and_score\n",
      "    estimator.fit(X_train, y_train, **fit_params)\n",
      "  File \"C:\\Users\\LENOVO\\anaconda3\\lib\\site-packages\\sklearn\\neighbors\\_classification.py\", line 179, in fit\n",
      "    return self._fit(X, y)\n",
      "  File \"C:\\Users\\LENOVO\\anaconda3\\lib\\site-packages\\sklearn\\neighbors\\_base.py\", line 399, in _fit\n",
      "    self._check_algorithm_metric()\n",
      "  File \"C:\\Users\\LENOVO\\anaconda3\\lib\\site-packages\\sklearn\\neighbors\\_base.py\", line 342, in _check_algorithm_metric\n",
      "    raise ValueError(\"Metric '%s' not valid. Use \"\n",
      "ValueError: Metric 'manhatan' not valid. Use sorted(sklearn.neighbors.VALID_METRICS['brute']) to get valid options. Metric can also be a callable function.\n",
      "\n",
      "  warnings.warn(\"Estimator fit failed. The score on this train-test\"\n",
      "C:\\Users\\LENOVO\\anaconda3\\lib\\site-packages\\sklearn\\neighbors\\_classification.py:179: DataConversionWarning: A column-vector y was passed when a 1d array was expected. Please change the shape of y to (n_samples,), for example using ravel().\n",
      "  return self._fit(X, y)\n",
      "C:\\Users\\LENOVO\\anaconda3\\lib\\site-packages\\sklearn\\model_selection\\_validation.py:610: FitFailedWarning: Estimator fit failed. The score on this train-test partition for these parameters will be set to nan. Details: \n",
      "Traceback (most recent call last):\n",
      "  File \"C:\\Users\\LENOVO\\anaconda3\\lib\\site-packages\\sklearn\\model_selection\\_validation.py\", line 593, in _fit_and_score\n",
      "    estimator.fit(X_train, y_train, **fit_params)\n",
      "  File \"C:\\Users\\LENOVO\\anaconda3\\lib\\site-packages\\sklearn\\neighbors\\_classification.py\", line 179, in fit\n",
      "    return self._fit(X, y)\n",
      "  File \"C:\\Users\\LENOVO\\anaconda3\\lib\\site-packages\\sklearn\\neighbors\\_base.py\", line 399, in _fit\n",
      "    self._check_algorithm_metric()\n",
      "  File \"C:\\Users\\LENOVO\\anaconda3\\lib\\site-packages\\sklearn\\neighbors\\_base.py\", line 342, in _check_algorithm_metric\n",
      "    raise ValueError(\"Metric '%s' not valid. Use \"\n",
      "ValueError: Metric 'manhatan' not valid. Use sorted(sklearn.neighbors.VALID_METRICS['brute']) to get valid options. Metric can also be a callable function.\n",
      "\n",
      "  warnings.warn(\"Estimator fit failed. The score on this train-test\"\n",
      "C:\\Users\\LENOVO\\anaconda3\\lib\\site-packages\\sklearn\\neighbors\\_classification.py:179: DataConversionWarning: A column-vector y was passed when a 1d array was expected. Please change the shape of y to (n_samples,), for example using ravel().\n",
      "  return self._fit(X, y)\n",
      "C:\\Users\\LENOVO\\anaconda3\\lib\\site-packages\\sklearn\\model_selection\\_validation.py:610: FitFailedWarning: Estimator fit failed. The score on this train-test partition for these parameters will be set to nan. Details: \n",
      "Traceback (most recent call last):\n",
      "  File \"C:\\Users\\LENOVO\\anaconda3\\lib\\site-packages\\sklearn\\model_selection\\_validation.py\", line 593, in _fit_and_score\n",
      "    estimator.fit(X_train, y_train, **fit_params)\n",
      "  File \"C:\\Users\\LENOVO\\anaconda3\\lib\\site-packages\\sklearn\\neighbors\\_classification.py\", line 179, in fit\n",
      "    return self._fit(X, y)\n",
      "  File \"C:\\Users\\LENOVO\\anaconda3\\lib\\site-packages\\sklearn\\neighbors\\_base.py\", line 399, in _fit\n",
      "    self._check_algorithm_metric()\n",
      "  File \"C:\\Users\\LENOVO\\anaconda3\\lib\\site-packages\\sklearn\\neighbors\\_base.py\", line 342, in _check_algorithm_metric\n",
      "    raise ValueError(\"Metric '%s' not valid. Use \"\n",
      "ValueError: Metric 'manhatan' not valid. Use sorted(sklearn.neighbors.VALID_METRICS['brute']) to get valid options. Metric can also be a callable function.\n",
      "\n",
      "  warnings.warn(\"Estimator fit failed. The score on this train-test\"\n",
      "C:\\Users\\LENOVO\\anaconda3\\lib\\site-packages\\sklearn\\neighbors\\_classification.py:179: DataConversionWarning: A column-vector y was passed when a 1d array was expected. Please change the shape of y to (n_samples,), for example using ravel().\n",
      "  return self._fit(X, y)\n",
      "C:\\Users\\LENOVO\\anaconda3\\lib\\site-packages\\sklearn\\model_selection\\_validation.py:610: FitFailedWarning: Estimator fit failed. The score on this train-test partition for these parameters will be set to nan. Details: \n",
      "Traceback (most recent call last):\n",
      "  File \"C:\\Users\\LENOVO\\anaconda3\\lib\\site-packages\\sklearn\\model_selection\\_validation.py\", line 593, in _fit_and_score\n",
      "    estimator.fit(X_train, y_train, **fit_params)\n",
      "  File \"C:\\Users\\LENOVO\\anaconda3\\lib\\site-packages\\sklearn\\neighbors\\_classification.py\", line 179, in fit\n",
      "    return self._fit(X, y)\n",
      "  File \"C:\\Users\\LENOVO\\anaconda3\\lib\\site-packages\\sklearn\\neighbors\\_base.py\", line 399, in _fit\n",
      "    self._check_algorithm_metric()\n",
      "  File \"C:\\Users\\LENOVO\\anaconda3\\lib\\site-packages\\sklearn\\neighbors\\_base.py\", line 342, in _check_algorithm_metric\n",
      "    raise ValueError(\"Metric '%s' not valid. Use \"\n",
      "ValueError: Metric 'manhatan' not valid. Use sorted(sklearn.neighbors.VALID_METRICS['brute']) to get valid options. Metric can also be a callable function.\n",
      "\n",
      "  warnings.warn(\"Estimator fit failed. The score on this train-test\"\n",
      "C:\\Users\\LENOVO\\anaconda3\\lib\\site-packages\\sklearn\\neighbors\\_classification.py:179: DataConversionWarning: A column-vector y was passed when a 1d array was expected. Please change the shape of y to (n_samples,), for example using ravel().\n",
      "  return self._fit(X, y)\n",
      "C:\\Users\\LENOVO\\anaconda3\\lib\\site-packages\\sklearn\\model_selection\\_validation.py:610: FitFailedWarning: Estimator fit failed. The score on this train-test partition for these parameters will be set to nan. Details: \n",
      "Traceback (most recent call last):\n",
      "  File \"C:\\Users\\LENOVO\\anaconda3\\lib\\site-packages\\sklearn\\model_selection\\_validation.py\", line 593, in _fit_and_score\n",
      "    estimator.fit(X_train, y_train, **fit_params)\n",
      "  File \"C:\\Users\\LENOVO\\anaconda3\\lib\\site-packages\\sklearn\\neighbors\\_classification.py\", line 179, in fit\n",
      "    return self._fit(X, y)\n",
      "  File \"C:\\Users\\LENOVO\\anaconda3\\lib\\site-packages\\sklearn\\neighbors\\_base.py\", line 399, in _fit\n",
      "    self._check_algorithm_metric()\n",
      "  File \"C:\\Users\\LENOVO\\anaconda3\\lib\\site-packages\\sklearn\\neighbors\\_base.py\", line 342, in _check_algorithm_metric\n",
      "    raise ValueError(\"Metric '%s' not valid. Use \"\n",
      "ValueError: Metric 'manhatan' not valid. Use sorted(sklearn.neighbors.VALID_METRICS['brute']) to get valid options. Metric can also be a callable function.\n",
      "\n",
      "  warnings.warn(\"Estimator fit failed. The score on this train-test\"\n",
      "C:\\Users\\LENOVO\\anaconda3\\lib\\site-packages\\sklearn\\neighbors\\_classification.py:179: DataConversionWarning: A column-vector y was passed when a 1d array was expected. Please change the shape of y to (n_samples,), for example using ravel().\n",
      "  return self._fit(X, y)\n",
      "C:\\Users\\LENOVO\\anaconda3\\lib\\site-packages\\sklearn\\model_selection\\_validation.py:610: FitFailedWarning: Estimator fit failed. The score on this train-test partition for these parameters will be set to nan. Details: \n",
      "Traceback (most recent call last):\n",
      "  File \"C:\\Users\\LENOVO\\anaconda3\\lib\\site-packages\\sklearn\\model_selection\\_validation.py\", line 593, in _fit_and_score\n",
      "    estimator.fit(X_train, y_train, **fit_params)\n",
      "  File \"C:\\Users\\LENOVO\\anaconda3\\lib\\site-packages\\sklearn\\neighbors\\_classification.py\", line 179, in fit\n",
      "    return self._fit(X, y)\n",
      "  File \"C:\\Users\\LENOVO\\anaconda3\\lib\\site-packages\\sklearn\\neighbors\\_base.py\", line 399, in _fit\n",
      "    self._check_algorithm_metric()\n",
      "  File \"C:\\Users\\LENOVO\\anaconda3\\lib\\site-packages\\sklearn\\neighbors\\_base.py\", line 342, in _check_algorithm_metric\n",
      "    raise ValueError(\"Metric '%s' not valid. Use \"\n",
      "ValueError: Metric 'manhatan' not valid. Use sorted(sklearn.neighbors.VALID_METRICS['brute']) to get valid options. Metric can also be a callable function.\n",
      "\n",
      "  warnings.warn(\"Estimator fit failed. The score on this train-test\"\n",
      "C:\\Users\\LENOVO\\anaconda3\\lib\\site-packages\\sklearn\\model_selection\\_search.py:918: UserWarning: One or more of the test scores are non-finite: [0.75483559 0.7830029  0.77998066 0.78554159 0.78880561        nan\n",
      "        nan        nan        nan        nan]\n",
      "  warnings.warn(\n",
      "C:\\Users\\LENOVO\\anaconda3\\lib\\site-packages\\sklearn\\neighbors\\_classification.py:179: DataConversionWarning: A column-vector y was passed when a 1d array was expected. Please change the shape of y to (n_samples,), for example using ravel().\n",
      "  return self._fit(X, y)\n"
     ]
    },
    {
     "data": {
      "text/plain": [
       "GridSearchCV(cv=2, estimator=KNeighborsClassifier(),\n",
       "             param_grid={'metric': ['euclidean', 'manhatan'],\n",
       "                         'n_neighbors': [2, 3, 4, 5, 6]})"
      ]
     },
     "execution_count": 42,
     "metadata": {},
     "output_type": "execute_result"
    }
   ],
   "source": [
    "from sklearn.model_selection import GridSearchCV\n",
    "CV_knnc = GridSearchCV(estimator=knnc, param_grid=param_grid, cv= 2) # cv yang biasa digunakan adalah 5 atau 10\n",
    "CV_knnc.fit(train_smote_X, train_smote_Y)"
   ]
  },
  {
   "cell_type": "code",
   "execution_count": 49,
   "metadata": {},
   "outputs": [
    {
     "data": {
      "text/plain": [
       "KNeighborsClassifier(metric='euclidean', n_neighbors=6)"
      ]
     },
     "execution_count": 49,
     "metadata": {},
     "output_type": "execute_result"
    }
   ],
   "source": [
    "CV_knnc.best_estimator_"
   ]
  },
  {
   "cell_type": "markdown",
   "metadata": {
    "id": "wcQP1u1BV9Tm"
   },
   "source": [
    "#### Evaluation"
   ]
  },
  {
   "cell_type": "code",
   "execution_count": 43,
   "metadata": {
    "id": "00AXeZ-1V9Tm"
   },
   "outputs": [],
   "source": [
    "pred=CV_knnc.predict(test_X)"
   ]
  },
  {
   "cell_type": "code",
   "execution_count": 44,
   "metadata": {
    "id": "rRJ0ko0-V9Tn",
    "outputId": "06295b7e-0635-4e0e-ebd4-a5287902bb90"
   },
   "outputs": [
    {
     "name": "stdout",
     "output_type": "stream",
     "text": [
      "Accuracy for KNN on CV data:  0.7260468417317246\n"
     ]
    }
   ],
   "source": [
    "print(\"Accuracy for KNN on CV data: \",accuracy_score(test_Y,pred))"
   ]
  },
  {
   "cell_type": "code",
   "execution_count": 45,
   "metadata": {
    "id": "FvR_QGtKV9To",
    "outputId": "754b5e39-0e1a-4a73-9d32-aeb71bbb76da"
   },
   "outputs": [
    {
     "data": {
      "text/plain": [
       "array([[801, 237],\n",
       "       [149, 222]], dtype=int64)"
      ]
     },
     "execution_count": 45,
     "metadata": {},
     "output_type": "execute_result"
    }
   ],
   "source": [
    "CF=confusion_matrix(test_Y, pred)\n",
    "CF"
   ]
  },
  {
   "cell_type": "code",
   "execution_count": 46,
   "metadata": {
    "id": "6QWI0mPpV9To",
    "outputId": "854280e4-8547-47c9-82d8-badaa7125b1f"
   },
   "outputs": [
    {
     "name": "stdout",
     "output_type": "stream",
     "text": [
      "              precision    recall  f1-score   support\n",
      "\n",
      "          No       0.84      0.77      0.81      1038\n",
      "         Yes       0.48      0.60      0.53       371\n",
      "\n",
      "    accuracy                           0.73      1409\n",
      "   macro avg       0.66      0.69      0.67      1409\n",
      "weighted avg       0.75      0.73      0.73      1409\n",
      "\n"
     ]
    }
   ],
   "source": [
    "from sklearn.metrics import classification_report\n",
    "target_names = ['No','Yes']\n",
    "print(classification_report(test_Y, pred, target_names=target_names))"
   ]
  }
 ],
 "metadata": {
  "colab": {
   "collapsed_sections": [],
   "name": "Classification1.ipynb",
   "provenance": [],
   "toc_visible": true
  },
  "kernelspec": {
   "display_name": "Python 3",
   "language": "python",
   "name": "python3"
  },
  "language_info": {
   "codemirror_mode": {
    "name": "ipython",
    "version": 3
   },
   "file_extension": ".py",
   "mimetype": "text/x-python",
   "name": "python",
   "nbconvert_exporter": "python",
   "pygments_lexer": "ipython3",
   "version": "3.8.5"
  }
 },
 "nbformat": 4,
 "nbformat_minor": 4
}
